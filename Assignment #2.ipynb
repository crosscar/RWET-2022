{
 "cells": [
  {
   "cell_type": "code",
   "execution_count": 58,
   "id": "ec352de9",
   "metadata": {},
   "outputs": [],
   "source": [
    "import random"
   ]
  },
  {
   "cell_type": "code",
   "execution_count": 167,
   "id": "98ab8e8d",
   "metadata": {},
   "outputs": [],
   "source": [
    "ponds=open(\"walden_ponds.txt\")"
   ]
  },
  {
   "cell_type": "code",
   "execution_count": 168,
   "id": "f5e8c6e8",
   "metadata": {},
   "outputs": [],
   "source": [
    "warming=open(\"walden_house_warming.txt\")"
   ]
  },
  {
   "cell_type": "code",
   "execution_count": 154,
   "id": "6e976706",
   "metadata": {},
   "outputs": [],
   "source": [
    "ponds_read=open(\"walden_ponds.txt\").read()"
   ]
  },
  {
   "cell_type": "code",
   "execution_count": 61,
   "id": "63251fd8",
   "metadata": {},
   "outputs": [
    {
     "name": "stdout",
     "output_type": "stream",
     "text": [
      "<_io.TextIOWrapper name='walden_ponds.txt' mode='r' encoding='cp936'>\n"
     ]
    }
   ],
   "source": [
    "print(ponds)"
   ]
  },
  {
   "cell_type": "code",
   "execution_count": 62,
   "id": "f6ff1487",
   "metadata": {},
   "outputs": [
    {
     "name": "stdout",
     "output_type": "stream",
     "text": [
      "It is no dream of mine\n",
      "To ornament a line\n",
      "I cannot come nearer to God and Heaven\n",
      "Than I live to Walden even\n",
      "I am its stony shore\n",
      "And the breeze that passes o'er\n",
      "In the hollow of my hand\n",
      "Are its water and its sand\n",
      "And its deepest resort\n",
      "Lies high in my thought\n"
     ]
    }
   ],
   "source": [
    "print(ponds_read)"
   ]
  },
  {
   "cell_type": "code",
   "execution_count": 150,
   "id": "f6693990",
   "metadata": {},
   "outputs": [
    {
     "name": "stdout",
     "output_type": "stream",
     "text": [
      "Light-winged Smoke, Icarian bird,\n",
      "Melting thy pinions in thy upward flight,\n",
      "Lark without song, and messenger of dawn,\n",
      "Circling above the hamlets as thy nest;\n",
      "Or else, departing dream, and shadowy form\n",
      "Of midnight vision, gathering up thy skirts;\n",
      "By night star-veiling, and by day\n",
      "Darkening the light and blotting out the sun;\n",
      "Go thou my incense upward from this hearth,\n",
      "And ask the gods to pardon this clear flame.\n"
     ]
    }
   ],
   "source": [
    "print(warming.read())"
   ]
  },
  {
   "cell_type": "markdown",
   "id": "d98e71c3",
   "metadata": {},
   "source": [
    "Some tests around"
   ]
  },
  {
   "cell_type": "code",
   "execution_count": 66,
   "id": "681cc160",
   "metadata": {},
   "outputs": [],
   "source": [
    "lines=ponds_read.split(\"\\n\")"
   ]
  },
  {
   "cell_type": "code",
   "execution_count": 67,
   "id": "b82947d9",
   "metadata": {},
   "outputs": [
    {
     "name": "stdout",
     "output_type": "stream",
     "text": [
      "['It is no dream of mine', 'To ornament a line', 'I cannot come nearer to God and Heaven', 'Than I live to Walden even', 'I am its stony shore', \"And the breeze that passes o'er\", 'In the hollow of my hand', 'Are its water and its sand', 'And its deepest resort', 'Lies high in my thought']\n"
     ]
    }
   ],
   "source": [
    "print(lines)"
   ]
  },
  {
   "cell_type": "code",
   "execution_count": 157,
   "id": "e5f0d293",
   "metadata": {},
   "outputs": [
    {
     "data": {
      "text/plain": [
       "[]"
      ]
     },
     "execution_count": 157,
     "metadata": {},
     "output_type": "execute_result"
    }
   ],
   "source": [
    "[line for line in ponds]"
   ]
  },
  {
   "cell_type": "code",
   "execution_count": 169,
   "id": "74848600",
   "metadata": {},
   "outputs": [],
   "source": [
    "line_ponds = [line.strip() for line in ponds]"
   ]
  },
  {
   "cell_type": "code",
   "execution_count": 170,
   "id": "c3e16775",
   "metadata": {},
   "outputs": [],
   "source": [
    "line_warming = [line.strip() for line in warming]"
   ]
  },
  {
   "cell_type": "code",
   "execution_count": 171,
   "id": "ec10af78",
   "metadata": {},
   "outputs": [
    {
     "data": {
      "text/plain": [
       "['It is no dream of mine',\n",
       " 'To ornament a line',\n",
       " 'I cannot come nearer to God and Heaven',\n",
       " 'Than I live to Walden even',\n",
       " 'I am its stony shore',\n",
       " \"And the breeze that passes o'er\",\n",
       " 'In the hollow of my hand',\n",
       " 'Are its water and its sand',\n",
       " 'And its deepest resort',\n",
       " 'Lies high in my thought']"
      ]
     },
     "execution_count": 171,
     "metadata": {},
     "output_type": "execute_result"
    }
   ],
   "source": [
    "line_ponds"
   ]
  },
  {
   "cell_type": "markdown",
   "id": "e3e5def4",
   "metadata": {},
   "source": [
    "I tried to lowercase the first letter, then found the function of casefold()"
   ]
  },
  {
   "cell_type": "code",
   "execution_count": 172,
   "id": "7e8df156",
   "metadata": {},
   "outputs": [
    {
     "data": {
      "text/plain": [
       "[]"
      ]
     },
     "execution_count": 172,
     "metadata": {},
     "output_type": "execute_result"
    }
   ],
   "source": [
    "[line[:1].lower() for line in ponds]"
   ]
  },
  {
   "cell_type": "code",
   "execution_count": 107,
   "id": "40a1fa10",
   "metadata": {},
   "outputs": [],
   "source": [
    "lowerLine = [line.casefold().strip() for line in ponds]"
   ]
  },
  {
   "cell_type": "code",
   "execution_count": 108,
   "id": "6bb6c4ee",
   "metadata": {},
   "outputs": [
    {
     "name": "stdout",
     "output_type": "stream",
     "text": [
      "['it is no dream of mine', 'to ornament a line', 'i cannot come nearer to god and heaven', 'than i live to walden even', 'i am its stony shore', \"and the breeze that passes o'er\", 'in the hollow of my hand', 'are its water and its sand', 'and its deepest resort', 'lies high in my thought']\n"
     ]
    }
   ],
   "source": [
    "print(lowerLine)"
   ]
  },
  {
   "cell_type": "code",
   "execution_count": 99,
   "id": "ae88adcc",
   "metadata": {},
   "outputs": [],
   "source": [
    "words = ponds_read.split()"
   ]
  },
  {
   "cell_type": "code",
   "execution_count": 74,
   "id": "25fa7849",
   "metadata": {},
   "outputs": [
    {
     "name": "stdout",
     "output_type": "stream",
     "text": [
      "['It', 'is', 'no', 'dream', 'of', 'mine', 'To', 'ornament', 'a', 'line', 'I', 'cannot', 'come', 'nearer', 'to', 'God', 'and', 'Heaven', 'Than', 'I', 'live', 'to', 'Walden', 'even', 'I', 'am', 'its', 'stony', 'shore', 'And', 'the', 'breeze', 'that', 'passes', \"o'er\", 'In', 'the', 'hollow', 'of', 'my', 'hand', 'Are', 'its', 'water', 'and', 'its', 'sand', 'And', 'its', 'deepest', 'resort', 'Lies', 'high', 'in', 'my', 'thought']\n"
     ]
    }
   ],
   "source": [
    "print(words)"
   ]
  },
  {
   "cell_type": "code",
   "execution_count": null,
   "id": "0bd323e7",
   "metadata": {},
   "outputs": [],
   "source": [
    "for word in words:\n",
    "    word.lower()\n",
    "    print(word)"
   ]
  },
  {
   "cell_type": "code",
   "execution_count": 200,
   "id": "6d36fad5",
   "metadata": {},
   "outputs": [
    {
     "data": {
      "text/plain": [
       "['Dream',\n",
       " 'it',\n",
       " 'passes',\n",
       " 'its',\n",
       " 'ornament',\n",
       " 'no',\n",
       " 'i',\n",
       " 'of',\n",
       " 'in',\n",
       " 'a',\n",
       " 'of',\n",
       " 'in',\n",
       " 'lies',\n",
       " 'to',\n",
       " 'that',\n",
       " 'live',\n",
       " 'to',\n",
       " 'cannot',\n",
       " 'even',\n",
       " 'stony',\n",
       " 'are',\n",
       " 'hand',\n",
       " 'resort',\n",
       " 'hollow',\n",
       " 'line',\n",
       " 'heaven',\n",
       " 'nearer',\n",
       " 'mine',\n",
       " 'shore',\n",
       " 'and',\n",
       " 'and',\n",
       " 'am',\n",
       " 'water',\n",
       " 'breeze',\n",
       " 'is',\n",
       " 'i',\n",
       " 'than',\n",
       " 'my',\n",
       " 'walden',\n",
       " 'the',\n",
       " 'come',\n",
       " 'its',\n",
       " 'its',\n",
       " 'high',\n",
       " \"o'er\",\n",
       " 'and',\n",
       " 'god',\n",
       " 'thought',\n",
       " 'deepest',\n",
       " 'i',\n",
       " 'sand',\n",
       " 'the',\n",
       " 'and',\n",
       " 'my',\n",
       " 'its',\n",
       " 'to']"
      ]
     },
     "execution_count": 200,
     "metadata": {},
     "output_type": "execute_result"
    }
   ],
   "source": [
    "[word.replace(\" i \",\" I \") for word in output2.split()]"
   ]
  },
  {
   "cell_type": "markdown",
   "id": "001c6e90",
   "metadata": {},
   "source": [
    "# Random Output 1"
   ]
  },
  {
   "cell_type": "code",
   "execution_count": 132,
   "id": "d8689f40",
   "metadata": {},
   "outputs": [],
   "source": [
    "lowerWords = [word.lower() for word in words]"
   ]
  },
  {
   "cell_type": "code",
   "execution_count": 133,
   "id": "71835d58",
   "metadata": {},
   "outputs": [
    {
     "name": "stdout",
     "output_type": "stream",
     "text": [
      "['it', 'is', 'no', 'dream', 'of', 'mine', 'to', 'ornament', 'a', 'line', 'i', 'cannot', 'come', 'nearer', 'to', 'god', 'and', 'heaven', 'than', 'i', 'live', 'to', 'walden', 'even', 'i', 'am', 'its', 'stony', 'shore', 'and', 'the', 'breeze', 'that', 'passes', \"o'er\", 'in', 'the', 'hollow', 'of', 'my', 'hand', 'are', 'its', 'water', 'and', 'its', 'sand', 'and', 'its', 'deepest', 'resort', 'lies', 'high', 'in', 'my', 'thought']\n"
     ]
    }
   ],
   "source": [
    "print(lowerWords)"
   ]
  },
  {
   "cell_type": "code",
   "execution_count": 143,
   "id": "4141ba44",
   "metadata": {},
   "outputs": [],
   "source": [
    "random.shuffle(lowerWords)"
   ]
  },
  {
   "cell_type": "code",
   "execution_count": 144,
   "id": "3d71c03d",
   "metadata": {},
   "outputs": [
    {
     "data": {
      "text/plain": [
       "['dream',\n",
       " 'it',\n",
       " 'passes',\n",
       " 'its',\n",
       " 'ornament',\n",
       " 'no',\n",
       " 'i',\n",
       " 'of',\n",
       " 'in',\n",
       " 'a',\n",
       " 'of',\n",
       " 'in',\n",
       " 'lies',\n",
       " 'to',\n",
       " 'that',\n",
       " 'live',\n",
       " 'to',\n",
       " 'cannot',\n",
       " 'even',\n",
       " 'stony',\n",
       " 'are',\n",
       " 'hand',\n",
       " 'resort',\n",
       " 'hollow',\n",
       " 'line',\n",
       " 'heaven',\n",
       " 'nearer',\n",
       " 'mine',\n",
       " 'shore',\n",
       " 'and',\n",
       " 'and',\n",
       " 'am',\n",
       " 'water',\n",
       " 'breeze',\n",
       " 'is',\n",
       " 'i',\n",
       " 'than',\n",
       " 'my',\n",
       " 'walden',\n",
       " 'the',\n",
       " 'come',\n",
       " 'its',\n",
       " 'its',\n",
       " 'high',\n",
       " \"o'er\",\n",
       " 'and',\n",
       " 'god',\n",
       " 'thought',\n",
       " 'deepest',\n",
       " 'i',\n",
       " 'sand',\n",
       " 'the',\n",
       " 'and',\n",
       " 'my',\n",
       " 'its',\n",
       " 'to']"
      ]
     },
     "execution_count": 144,
     "metadata": {},
     "output_type": "execute_result"
    }
   ],
   "source": [
    "lowerWords"
   ]
  },
  {
   "cell_type": "code",
   "execution_count": 196,
   "id": "43931497",
   "metadata": {},
   "outputs": [],
   "source": [
    "output1 = \" \".join(lowerWords)"
   ]
  },
  {
   "cell_type": "code",
   "execution_count": 197,
   "id": "dc5194db",
   "metadata": {},
   "outputs": [
    {
     "name": "stdout",
     "output_type": "stream",
     "text": [
      "Dream it passes its ornament no i of in a of in lies to that live to cannot even stony are hand resort hollow line heaven nearer mine shore and and am water breeze is i than my walden the come its its high o'er and god thought deepest i sand the and my its to\n"
     ]
    }
   ],
   "source": [
    "output2 = output1.capitalize()\n",
    "print(output2)"
   ]
  },
  {
   "cell_type": "markdown",
   "id": "d270e372",
   "metadata": {},
   "source": [
    "# Random Output 2"
   ]
  },
  {
   "cell_type": "code",
   "execution_count": 177,
   "id": "4145b905",
   "metadata": {},
   "outputs": [],
   "source": [
    "random_ponds = random.sample(line_ponds, 5)"
   ]
  },
  {
   "cell_type": "code",
   "execution_count": 178,
   "id": "a20fd039",
   "metadata": {},
   "outputs": [
    {
     "name": "stdout",
     "output_type": "stream",
     "text": [
      "['I am its stony shore', 'Than I live to Walden even', 'To ornament a line', \"And the breeze that passes o'er\", 'It is no dream of mine']\n"
     ]
    }
   ],
   "source": [
    "print(random_ponds)"
   ]
  },
  {
   "cell_type": "code",
   "execution_count": 176,
   "id": "665b609f",
   "metadata": {},
   "outputs": [],
   "source": [
    "random_warming = random.sample(line_warming, 5)"
   ]
  },
  {
   "cell_type": "code",
   "execution_count": 179,
   "id": "7ccf1652",
   "metadata": {},
   "outputs": [
    {
     "name": "stdout",
     "output_type": "stream",
     "text": [
      "['And ask the gods to pardon this clear flame.', 'By night star-veiling, and by day', 'Or else, departing dream, and shadowy form', 'Darkening the light and blotting out the sun;', 'Circling above the hamlets as thy nest;']\n"
     ]
    }
   ],
   "source": [
    "print(random_warming)"
   ]
  },
  {
   "cell_type": "code",
   "execution_count": 184,
   "id": "c056fc97",
   "metadata": {},
   "outputs": [
    {
     "name": "stdout",
     "output_type": "stream",
     "text": [
      "['I am its stony shore']\n",
      "['And ask the gods to pardon this clear flame.']\n",
      "['Than I live to Walden even']\n",
      "['By night star-veiling, and by day']\n",
      "['To ornament a line']\n",
      "['Or else, departing dream, and shadowy form']\n",
      "[\"And the breeze that passes o'er\"]\n",
      "['Darkening the light and blotting out the sun;']\n"
     ]
    }
   ],
   "source": [
    "line_count = 5\n",
    "for i in range(line_count):\n",
    "    print(random_ponds[i:i+1])\n",
    "    print(random_warming[i:i+1])"
   ]
  }
 ],
 "metadata": {
  "kernelspec": {
   "display_name": "Python 3 (ipykernel)",
   "language": "python",
   "name": "python3"
  },
  "language_info": {
   "codemirror_mode": {
    "name": "ipython",
    "version": 3
   },
   "file_extension": ".py",
   "mimetype": "text/x-python",
   "name": "python",
   "nbconvert_exporter": "python",
   "pygments_lexer": "ipython3",
   "version": "3.9.7"
  }
 },
 "nbformat": 4,
 "nbformat_minor": 5
}
