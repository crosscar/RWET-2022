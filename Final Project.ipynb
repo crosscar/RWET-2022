{
 "cells": [
  {
   "cell_type": "markdown",
   "id": "3b91b32b",
   "metadata": {},
   "source": [
    "# Dissertation Generator"
   ]
  },
  {
   "cell_type": "markdown",
   "id": "6ff80a43",
   "metadata": {},
   "source": [
    "# Method 1 Tracery + Neural Networks"
   ]
  },
  {
   "cell_type": "code",
   "execution_count": 198,
   "id": "8f82ebef",
   "metadata": {},
   "outputs": [],
   "source": [
    "import tracery\n",
    "from tracery.modifiers import base_english"
   ]
  },
  {
   "cell_type": "code",
   "execution_count": 199,
   "id": "770e51df",
   "metadata": {},
   "outputs": [],
   "source": [
    "from transformers import pipeline, AutoModelForCausalLM, AutoTokenizer"
   ]
  },
  {
   "cell_type": "code",
   "execution_count": 200,
   "id": "a319b2e1",
   "metadata": {},
   "outputs": [],
   "source": [
    "tokenizer = AutoTokenizer.from_pretrained('distilgpt2')\n",
    "model = AutoModelForCausalLM.from_pretrained('distilgpt2')"
   ]
  },
  {
   "cell_type": "code",
   "execution_count": 201,
   "id": "22a4812d",
   "metadata": {},
   "outputs": [],
   "source": [
    "generator = pipeline('text-generation', model=model, tokenizer=tokenizer)"
   ]
  },
  {
   "cell_type": "code",
   "execution_count": null,
   "id": "ae11bfec",
   "metadata": {},
   "outputs": [],
   "source": [
    "print(generator(cue, max_length=250)[0]['generated_text'])"
   ]
  },
  {
   "cell_type": "code",
   "execution_count": 216,
   "id": "c5fa1cbe",
   "metadata": {},
   "outputs": [],
   "source": [
    "rules = {\n",
    "    #\"origin\": \"#article.capitalize# #subject# has #adj.a# #predicate# that #verb#s the #predicate# of #predicate2#, which #verb2# the #predicate# of #predicate2#.\",\n",
    "    \"topic\": \"The #verb.ed# #predicate# of #predicate2#\",\n",
    "    \"origin\": \"#article.capitalize# #subject# is #verb.ed# #prep# #adj.a# #predicate# #prep# #predicate2# that #verb.s# the #predicate# of #predicate2#\",\n",
    "    \"origin2\": \"#prep2.capitalize#, #article# #subject# #verb2.ed# #adj.a# #predicate# that #verb# #predicate# and #predicate2#\",\n",
    "    \"origin3\": \"its #predicate# #verb.s# the #predicate# #prep# #predicate2#\",\n",
    "    \"article\":[\"this\", \"that\", \"the\"],\n",
    "    \"subject\": [\"book\", \"essay\",\"space\", \"material\", \"typology\", \"dimension\", \"scale\", \"form\", \"shape\", \n",
    "                \"curve\", \"facade\", \"arch\", \"site\", \"ratio\", \"moment\", \"landscape\"],\n",
    "    \"adj\": [\"organic\", \"metabolic\", \"social\", \"radiant\", \"revolutionary\", \"capital\", \"religious\", \"regenerative\", \"adaptive\",\n",
    "           \"vernacular\", \"humanitarian\", \"mediocre\", \"contemporary\", \"avant-garde\", \"parametric\", \"retrospective\",\n",
    "           \"cognitive\", \"enactive\", \"attuned\", \"Beaux-Arts\", \"symmetric\", \"extreme\", \"radical\", \"intricate\",\n",
    "           \"ambivalent\", \"contradictory\", \"inadvertent\", \"ephemeral\", \"transient\"],\n",
    "    \"verb\":[\"negotiate\", \"reconciliate\", \"penetrate\", \"analog\", \"narrate\", \"embed\", \"protest\", \"flashback\", \"parse\",\n",
    "           \"resolve\", \"awaken\", \"claim\", \"delcare\", \"anounce\", \"dissolve\", \"vague\", \"challenge\", \"renew\",\n",
    "            \"interweave\", \"intersect\", \"culminate\", \"blur\", \"insinuate\", \"transform\", \"arrange\", ],\n",
    "    \"verb2\":[\"lead\", \"cause\", \"influence\", \"affect\", \"result\", \"trigger\", \"generate\", \"produce\", \"show\",\n",
    "            \"advance\", \"develop\", \"become\", \"exhibit\", \"display\", \"confuse\", \"break\", \"reveal\", \"reflect\",\n",
    "            \"present\",],\n",
    "    \"predicate\": [\"metaphor\", \"ambiguity\", \"composition\", \"dissonance\", \"nostalgia\", \"redundancy\", \"sense\", \n",
    "                  \"aesthetics\",\"discrepancy\", \"uniformity\", \"sprit\", \"syntax\", \"semantics\",\"semiotics\", \"transparency\",\n",
    "                 \"suspension\", \"epoché\", \"movement\", \"value\", \"meaning\", \"resilience\", \"callapse\", \"crisis\",\n",
    "                 \"attunement\", \"appearance\", \"texture\", \"boundary\", \"sensation\", \"path\", \"transcendence\", \"deduction\",\n",
    "                 \"induction\", \"respect\", \"preposition\", \"coexistence\", \"continuity\", \"liberty\", \"resistance\",\n",
    "                 \"memories\", \"awareness\", \"aggregation\", \"rejuvenation\", \"dissolution\", \"surveillance\", \"expulsion\",\n",
    "                 ],\n",
    "    \"predicate2\":[\"modernism\", \"urbanism\", \"constructionism\", \"deconstructionism\", \"brutalism\", \"metabolism\", \"utopia\", \n",
    "                 \"rationalism\", \"phenomenology\", \"hierarchy\", \"taxonomy\", \"fundamentalism\", \"urban renewal\",\n",
    "                 \"ideology\", \"social justice\", \"atmosphere\", \"existence\", \"surrender\", \"dignity\", \"commitment\",\n",
    "                 \"expressionism\", \"realism\", \"surrealism\", \"modernity\", \"order\", \"manifesto\", \"revolution\", \"perspective\",\n",
    "                 \"genealogy\", \"context\", \"resemblance\", \"monarchy\", \"authority\", \"sovereignty\", \"autonomy\", \"axis\",\n",
    "                 \"organism\", \"pedagogy\", \"poststructuralist\"],\n",
    "    \"prep\": [\"in\", \"on\", \"of\", \"by\", \"with\", \"over\", \"against\", \"through\"],\n",
    "    \"prep2\":[\"to some extent\", \"moreover\", \"however\", \"nevertheless\", \"instead\", \"somehow\", \"yet\", \"in contrast\",\n",
    "            \"on the contrary\", \"whereas\", \"whatever\", \"after all\", \"still\", \"therefore\", \"thus\", \"hence\", \"onsequently\",\n",
    "            \"then\", \"as a result\", \"specifically\", \"in other words\", \"besides\"]\n",
    "}"
   ]
  },
  {
   "cell_type": "code",
   "execution_count": 115,
   "id": "1df4e82e",
   "metadata": {},
   "outputs": [
    {
     "name": "stderr",
     "output_type": "stream",
     "text": [
      "Setting `pad_token_id` to `eos_token_id`:50256 for open-end generation.\n"
     ]
    },
    {
     "name": "stdout",
     "output_type": "stream",
     "text": [
      "Topic:  The intersected preposition of monarchy \n",
      "\n"
     ]
    },
    {
     "name": "stderr",
     "output_type": "stream",
     "text": [
      "Setting `pad_token_id` to `eos_token_id`:50256 for open-end generation.\n"
     ]
    },
    {
     "name": "stdout",
     "output_type": "stream",
     "text": [
      "The material is arranged against an intricate value of sovereignty that dissolves the transparency of revolution, its dissonance protests the aggregation over resemblance. As a result, the scale reflected a radical induction that reconciliate transparency and monarchy. \n",
      "\n",
      "The Revolution is a new form of reform through direct participation in new forms of the revolution, a program that seeks the overthrow of institutions and institutions. Like the \"Revolution\" that took place two centuries ago, this project is a new form of reform and of new forms of the revolution.\n",
      "The Revolution is an ideological project of struggle, resistance, democracy, and democracy, and is being organized on behalf of the revolution and of revolution. Its goal is to build a revolutionary democracy, an electoral system, an electoral system, an economic system, a political system, and \"revolutionary\" democratic systems, and not just a government and parliament, or a central government.[1]\n",
      "The new revolution is the political revolutionary revolution, rather than the bourgeois revolution. But the revolution was not a radical protest until at least some time prior to the revolution, which in turn left for revolution. At least as long as the revolutionary revolution was as planned, a mass protest is not a socialist revolution.\n",
      "The revolution was a revolutionary\n",
      "Topic:  The intersected nostalgia of modernity \n",
      "\n"
     ]
    },
    {
     "name": "stderr",
     "output_type": "stream",
     "text": [
      "Setting `pad_token_id` to `eos_token_id`:50256 for open-end generation.\n"
     ]
    },
    {
     "name": "stdout",
     "output_type": "stream",
     "text": [
      "This typology is parsed in a mediocre discrepancy by deconstructionism that reconciliates the deduction of utopia, its continuity awakens the transcendence through utopia. After all, the material advanced a Beaux-Arts sensation that embed ambiguity and ideology. \n",
      "\n",
      "Lets write briefly, this article is based on some material in this field (the following citations are mine):\n",
      "http://en.wikipedia.org/wiki/Lets_Write_Intended_Composition\n",
      "Topic:  The vagued aesthetics of modernity \n",
      "\n"
     ]
    },
    {
     "name": "stderr",
     "output_type": "stream",
     "text": [
      "Setting `pad_token_id` to `eos_token_id`:50256 for open-end generation.\n"
     ]
    },
    {
     "name": "stdout",
     "output_type": "stream",
     "text": [
      "That form is vagued against an organic appearance of metabolism that anounces the sense of modernity, its uniformity delcares the sensation through brutalism. On the contrary, the arch showed an attuned semantics that parse continuity and surrealism. \n",
      "The problem may have been resolved with the use of an alternative term for the term ‐“ and “‐ as an argument on the issue, which is a term derived from the concept of evolution.““\n",
      "This statement is not based on an account of the notion of a “- but also on a more abstract version of the term, which is much more concrete for a question of evolution.“ In short, it“ explains the existence of a natural order. Because evolution could evolve, one must not assume that evolution was, by chance, an evolving system. If this had indeed been the case, we would have expected, in the long run, and would have long believed that creationism could be an evolutionary process. If there was, then evolution, as it might be, could be a new one; but it can also be a new one.\n",
      "The question is whether its applicability is a form ‐“ or a form\n",
      "Topic:  The transformed sprit of deconstructionism \n",
      "\n",
      "The material is parsed with a social boundary in urban renewal that delcares the callapse of phenomenology, its aggregation parses the discrepancy on social justice. Whatever, the shape exhibited a social crisis that analog value and expressionism. \n",
      "\n",
      "Advertisements\n",
      "Topic:  The flashbacked redundancy of autonomy \n",
      "\n"
     ]
    },
    {
     "ename": "TypeError",
     "evalue": "can only concatenate str (not \"NoneType\") to str",
     "output_type": "error",
     "traceback": [
      "\u001b[1;31m---------------------------------------------------------------------------\u001b[0m",
      "\u001b[1;31mTypeError\u001b[0m                                 Traceback (most recent call last)",
      "\u001b[1;32mC:\\Users\\KILLER~1\\AppData\\Local\\Temp/ipykernel_42688/3597243711.py\u001b[0m in \u001b[0;36m<module>\u001b[1;34m\u001b[0m\n\u001b[0;32m      3\u001b[0m \u001b[1;32mfor\u001b[0m \u001b[0mi\u001b[0m \u001b[1;32min\u001b[0m \u001b[0mrange\u001b[0m\u001b[1;33m(\u001b[0m\u001b[1;36m5\u001b[0m\u001b[1;33m)\u001b[0m\u001b[1;33m:\u001b[0m\u001b[1;33m\u001b[0m\u001b[1;33m\u001b[0m\u001b[0m\n\u001b[0;32m      4\u001b[0m     \u001b[0mprint\u001b[0m\u001b[1;33m(\u001b[0m\u001b[1;34m\"Topic: \"\u001b[0m\u001b[1;33m,\u001b[0m \u001b[0mgrammar\u001b[0m\u001b[1;33m.\u001b[0m\u001b[0mflatten\u001b[0m\u001b[1;33m(\u001b[0m\u001b[1;34m\"#topic# \\n\"\u001b[0m\u001b[1;33m)\u001b[0m\u001b[1;33m)\u001b[0m\u001b[1;33m\u001b[0m\u001b[1;33m\u001b[0m\u001b[0m\n\u001b[1;32m----> 5\u001b[1;33m     \u001b[0mcue\u001b[0m \u001b[1;33m=\u001b[0m \u001b[0mgrammar\u001b[0m\u001b[1;33m.\u001b[0m\u001b[0mflatten\u001b[0m\u001b[1;33m(\u001b[0m\u001b[1;34m\"#origin#, #origin3#. #origin2#. \\n\"\u001b[0m\u001b[1;33m)\u001b[0m\u001b[1;33m\u001b[0m\u001b[1;33m\u001b[0m\u001b[0m\n\u001b[0m\u001b[0;32m      6\u001b[0m     \u001b[1;31m#print(grammar.flatten(\"#origin#, #origin3#. #origin2#. \\n\"))\u001b[0m\u001b[1;33m\u001b[0m\u001b[1;33m\u001b[0m\u001b[0m\n\u001b[0;32m      7\u001b[0m     \u001b[0mprint\u001b[0m\u001b[1;33m(\u001b[0m\u001b[0mgenerator\u001b[0m\u001b[1;33m(\u001b[0m\u001b[0mcue\u001b[0m\u001b[1;33m,\u001b[0m \u001b[0mmax_length\u001b[0m\u001b[1;33m=\u001b[0m\u001b[1;36m250\u001b[0m\u001b[1;33m)\u001b[0m\u001b[1;33m[\u001b[0m\u001b[1;36m0\u001b[0m\u001b[1;33m]\u001b[0m\u001b[1;33m[\u001b[0m\u001b[1;34m'generated_text'\u001b[0m\u001b[1;33m]\u001b[0m\u001b[1;33m)\u001b[0m\u001b[1;33m\u001b[0m\u001b[1;33m\u001b[0m\u001b[0m\n",
      "\u001b[1;32m~\\anaconda3\\lib\\site-packages\\tracery\\__init__.py\u001b[0m in \u001b[0;36mflatten\u001b[1;34m(self, rule, allow_escape_chars)\u001b[0m\n\u001b[0;32m    242\u001b[0m \u001b[1;33m\u001b[0m\u001b[0m\n\u001b[0;32m    243\u001b[0m     \u001b[1;32mdef\u001b[0m \u001b[0mflatten\u001b[0m\u001b[1;33m(\u001b[0m\u001b[0mself\u001b[0m\u001b[1;33m,\u001b[0m \u001b[0mrule\u001b[0m\u001b[1;33m,\u001b[0m \u001b[0mallow_escape_chars\u001b[0m\u001b[1;33m=\u001b[0m\u001b[1;32mFalse\u001b[0m\u001b[1;33m)\u001b[0m\u001b[1;33m:\u001b[0m\u001b[1;33m\u001b[0m\u001b[1;33m\u001b[0m\u001b[0m\n\u001b[1;32m--> 244\u001b[1;33m         \u001b[0mroot\u001b[0m \u001b[1;33m=\u001b[0m \u001b[0mself\u001b[0m\u001b[1;33m.\u001b[0m\u001b[0mexpand\u001b[0m\u001b[1;33m(\u001b[0m\u001b[0mrule\u001b[0m\u001b[1;33m,\u001b[0m \u001b[0mallow_escape_chars\u001b[0m\u001b[1;33m)\u001b[0m\u001b[1;33m\u001b[0m\u001b[1;33m\u001b[0m\u001b[0m\n\u001b[0m\u001b[0;32m    245\u001b[0m         \u001b[1;32mreturn\u001b[0m \u001b[0mroot\u001b[0m\u001b[1;33m.\u001b[0m\u001b[0mfinished_text\u001b[0m\u001b[1;33m\u001b[0m\u001b[1;33m\u001b[0m\u001b[0m\n\u001b[0;32m    246\u001b[0m \u001b[1;33m\u001b[0m\u001b[0m\n",
      "\u001b[1;32m~\\anaconda3\\lib\\site-packages\\tracery\\__init__.py\u001b[0m in \u001b[0;36mexpand\u001b[1;34m(self, rule, allow_escape_chars)\u001b[0m\n\u001b[0;32m    235\u001b[0m     \u001b[1;32mdef\u001b[0m \u001b[0mexpand\u001b[0m\u001b[1;33m(\u001b[0m\u001b[0mself\u001b[0m\u001b[1;33m,\u001b[0m \u001b[0mrule\u001b[0m\u001b[1;33m,\u001b[0m \u001b[0mallow_escape_chars\u001b[0m\u001b[1;33m=\u001b[0m\u001b[1;32mFalse\u001b[0m\u001b[1;33m)\u001b[0m\u001b[1;33m:\u001b[0m\u001b[1;33m\u001b[0m\u001b[1;33m\u001b[0m\u001b[0m\n\u001b[0;32m    236\u001b[0m         \u001b[0mroot\u001b[0m \u001b[1;33m=\u001b[0m \u001b[0mself\u001b[0m\u001b[1;33m.\u001b[0m\u001b[0mcreate_root\u001b[0m\u001b[1;33m(\u001b[0m\u001b[0mrule\u001b[0m\u001b[1;33m)\u001b[0m\u001b[1;33m\u001b[0m\u001b[1;33m\u001b[0m\u001b[0m\n\u001b[1;32m--> 237\u001b[1;33m         \u001b[0mroot\u001b[0m\u001b[1;33m.\u001b[0m\u001b[0mexpand\u001b[0m\u001b[1;33m(\u001b[0m\u001b[1;33m)\u001b[0m\u001b[1;33m\u001b[0m\u001b[1;33m\u001b[0m\u001b[0m\n\u001b[0m\u001b[0;32m    238\u001b[0m         \u001b[1;32mif\u001b[0m \u001b[1;32mnot\u001b[0m \u001b[0mallow_escape_chars\u001b[0m\u001b[1;33m:\u001b[0m\u001b[1;33m\u001b[0m\u001b[1;33m\u001b[0m\u001b[0m\n\u001b[0;32m    239\u001b[0m             \u001b[0mroot\u001b[0m\u001b[1;33m.\u001b[0m\u001b[0mclear_escape_chars\u001b[0m\u001b[1;33m(\u001b[0m\u001b[1;33m)\u001b[0m\u001b[1;33m\u001b[0m\u001b[1;33m\u001b[0m\u001b[0m\n",
      "\u001b[1;32m~\\anaconda3\\lib\\site-packages\\tracery\\__init__.py\u001b[0m in \u001b[0;36mexpand\u001b[1;34m(self, prevent_recursion)\u001b[0m\n\u001b[0;32m     61\u001b[0m             \u001b[1;31m#     more in the future)\u001b[0m\u001b[1;33m\u001b[0m\u001b[1;33m\u001b[0m\u001b[0m\n\u001b[0;32m     62\u001b[0m             \u001b[1;32mif\u001b[0m \u001b[0mself\u001b[0m\u001b[1;33m.\u001b[0m\u001b[0mtype\u001b[0m \u001b[1;33m==\u001b[0m \u001b[1;33m-\u001b[0m\u001b[1;36m1\u001b[0m\u001b[1;33m:\u001b[0m\u001b[1;33m\u001b[0m\u001b[1;33m\u001b[0m\u001b[0m\n\u001b[1;32m---> 63\u001b[1;33m                 \u001b[0mself\u001b[0m\u001b[1;33m.\u001b[0m\u001b[0mexpand_children\u001b[0m\u001b[1;33m(\u001b[0m\u001b[0mself\u001b[0m\u001b[1;33m.\u001b[0m\u001b[0mraw\u001b[0m\u001b[1;33m,\u001b[0m \u001b[0mprevent_recursion\u001b[0m\u001b[1;33m)\u001b[0m\u001b[1;33m\u001b[0m\u001b[1;33m\u001b[0m\u001b[0m\n\u001b[0m\u001b[0;32m     64\u001b[0m \u001b[1;33m\u001b[0m\u001b[0m\n\u001b[0;32m     65\u001b[0m             \u001b[1;32melif\u001b[0m \u001b[0mself\u001b[0m\u001b[1;33m.\u001b[0m\u001b[0mtype\u001b[0m \u001b[1;33m==\u001b[0m \u001b[1;36m0\u001b[0m\u001b[1;33m:\u001b[0m\u001b[1;33m\u001b[0m\u001b[1;33m\u001b[0m\u001b[0m\n",
      "\u001b[1;32m~\\anaconda3\\lib\\site-packages\\tracery\\__init__.py\u001b[0m in \u001b[0;36mexpand_children\u001b[1;34m(self, child_rule, prevent_recursion)\u001b[0m\n\u001b[0;32m     44\u001b[0m                 \u001b[0mself\u001b[0m\u001b[1;33m.\u001b[0m\u001b[0mchildren\u001b[0m\u001b[1;33m.\u001b[0m\u001b[0mappend\u001b[0m\u001b[1;33m(\u001b[0m\u001b[0mnode\u001b[0m\u001b[1;33m)\u001b[0m\u001b[1;33m\u001b[0m\u001b[1;33m\u001b[0m\u001b[0m\n\u001b[0;32m     45\u001b[0m                 \u001b[1;32mif\u001b[0m \u001b[1;32mnot\u001b[0m \u001b[0mprevent_recursion\u001b[0m\u001b[1;33m:\u001b[0m\u001b[1;33m\u001b[0m\u001b[1;33m\u001b[0m\u001b[0m\n\u001b[1;32m---> 46\u001b[1;33m                     \u001b[0mnode\u001b[0m\u001b[1;33m.\u001b[0m\u001b[0mexpand\u001b[0m\u001b[1;33m(\u001b[0m\u001b[0mprevent_recursion\u001b[0m\u001b[1;33m)\u001b[0m\u001b[1;33m\u001b[0m\u001b[1;33m\u001b[0m\u001b[0m\n\u001b[0m\u001b[0;32m     47\u001b[0m                 \u001b[0mself\u001b[0m\u001b[1;33m.\u001b[0m\u001b[0mfinished_text\u001b[0m \u001b[1;33m+=\u001b[0m \u001b[0mnode\u001b[0m\u001b[1;33m.\u001b[0m\u001b[0mfinished_text\u001b[0m\u001b[1;33m\u001b[0m\u001b[1;33m\u001b[0m\u001b[0m\n\u001b[0;32m     48\u001b[0m         \u001b[1;32melse\u001b[0m\u001b[1;33m:\u001b[0m\u001b[1;33m\u001b[0m\u001b[1;33m\u001b[0m\u001b[0m\n",
      "\u001b[1;32m~\\anaconda3\\lib\\site-packages\\tracery\\__init__.py\u001b[0m in \u001b[0;36mexpand\u001b[1;34m(self, prevent_recursion)\u001b[0m\n\u001b[0;32m     82\u001b[0m                 selected_rule = self.grammar.select_rule(self.symbol, self,\n\u001b[0;32m     83\u001b[0m                                                          self.errors)\n\u001b[1;32m---> 84\u001b[1;33m                 \u001b[0mself\u001b[0m\u001b[1;33m.\u001b[0m\u001b[0mexpand_children\u001b[0m\u001b[1;33m(\u001b[0m\u001b[0mselected_rule\u001b[0m\u001b[1;33m,\u001b[0m \u001b[0mprevent_recursion\u001b[0m\u001b[1;33m)\u001b[0m\u001b[1;33m\u001b[0m\u001b[1;33m\u001b[0m\u001b[0m\n\u001b[0m\u001b[0;32m     85\u001b[0m \u001b[1;33m\u001b[0m\u001b[0m\n\u001b[0;32m     86\u001b[0m                 \u001b[1;31m# apply modifiers\u001b[0m\u001b[1;33m\u001b[0m\u001b[1;33m\u001b[0m\u001b[0m\n",
      "\u001b[1;32m~\\anaconda3\\lib\\site-packages\\tracery\\__init__.py\u001b[0m in \u001b[0;36mexpand_children\u001b[1;34m(self, child_rule, prevent_recursion)\u001b[0m\n\u001b[0;32m     45\u001b[0m                 \u001b[1;32mif\u001b[0m \u001b[1;32mnot\u001b[0m \u001b[0mprevent_recursion\u001b[0m\u001b[1;33m:\u001b[0m\u001b[1;33m\u001b[0m\u001b[1;33m\u001b[0m\u001b[0m\n\u001b[0;32m     46\u001b[0m                     \u001b[0mnode\u001b[0m\u001b[1;33m.\u001b[0m\u001b[0mexpand\u001b[0m\u001b[1;33m(\u001b[0m\u001b[0mprevent_recursion\u001b[0m\u001b[1;33m)\u001b[0m\u001b[1;33m\u001b[0m\u001b[1;33m\u001b[0m\u001b[0m\n\u001b[1;32m---> 47\u001b[1;33m                 \u001b[0mself\u001b[0m\u001b[1;33m.\u001b[0m\u001b[0mfinished_text\u001b[0m \u001b[1;33m+=\u001b[0m \u001b[0mnode\u001b[0m\u001b[1;33m.\u001b[0m\u001b[0mfinished_text\u001b[0m\u001b[1;33m\u001b[0m\u001b[1;33m\u001b[0m\u001b[0m\n\u001b[0m\u001b[0;32m     48\u001b[0m         \u001b[1;32melse\u001b[0m\u001b[1;33m:\u001b[0m\u001b[1;33m\u001b[0m\u001b[1;33m\u001b[0m\u001b[0m\n\u001b[0;32m     49\u001b[0m             \u001b[0mself\u001b[0m\u001b[1;33m.\u001b[0m\u001b[0merrors\u001b[0m\u001b[1;33m.\u001b[0m\u001b[0mappend\u001b[0m\u001b[1;33m(\u001b[0m\u001b[1;34m\"No child rule provided, can't expand children\"\u001b[0m\u001b[1;33m)\u001b[0m\u001b[1;33m\u001b[0m\u001b[1;33m\u001b[0m\u001b[0m\n",
      "\u001b[1;31mTypeError\u001b[0m: can only concatenate str (not \"NoneType\") to str"
     ]
    }
   ],
   "source": [
    "grammar = tracery.Grammar(rules)\n",
    "grammar.add_modifiers(base_english)\n",
    "for i in range(5):  \n",
    "    print(\"Topic: \", grammar.flatten(\"#topic# \\n\"))\n",
    "    cue = grammar.flatten(\"#origin#, #origin3#. #origin2#. \\n\")\n",
    "    #print(grammar.flatten(\"#origin#, #origin3#. #origin2#. \\n\"))\n",
    "    print(generator(cue, max_length=250)[0]['generated_text'])"
   ]
  },
  {
   "cell_type": "code",
   "execution_count": 217,
   "id": "a04ff486",
   "metadata": {},
   "outputs": [
    {
     "name": "stderr",
     "output_type": "stream",
     "text": [
      "Setting `pad_token_id` to `eos_token_id`:50256 for open-end generation.\n"
     ]
    },
    {
     "name": "stdout",
     "output_type": "stream",
     "text": [
      "Topic:  The delcared respect of monarchy \n",
      "\n"
     ]
    },
    {
     "name": "stderr",
     "output_type": "stream",
     "text": [
      "Setting `pad_token_id` to `eos_token_id`:50256 for open-end generation.\n"
     ]
    },
    {
     "name": "stdout",
     "output_type": "stream",
     "text": [
      "This ratio is transformed on a contradictory ambiguity on phenomenology that interweaves the attunement of expressionism, its rejuvenation anounces the sensation in utopia. In other words, this ratio becomed a metabolic suspension that narrate attunement and resemblance. \n",
      "\n",
      "I am not sure what the difference between the two dialectic on ontology and their dialectic is in the relation of ontology or its dialectic on ontological and ontological ontological ontological ontological ontological ontological ontological ontological ontological ontological ontological ontological ontological ontological ontological ontological ontological ontological ontological ontological ontological ontological ontological ontological ontological ontological ontological ontological ontological ontological ontological ontological ontological ontological ontological ontological ontological ontological ontological ontological ontological ontological ontological ontological ontological ontological ontological ontological ontological ontological ontological ontological ontological ontological ontological ontological ontological ontological ontological ontological ontological ontological ontological ontological ontological ontological ontological ontological ontological ontological ontological ontological ontological ontological ontological ontological ontological ontological ontological ont\n",
      "Topic:  The blured crisis of dignity \n",
      "\n"
     ]
    },
    {
     "name": "stderr",
     "output_type": "stream",
     "text": [
      "Setting `pad_token_id` to `eos_token_id`:50256 for open-end generation.\n"
     ]
    },
    {
     "name": "stdout",
     "output_type": "stream",
     "text": [
      "That ratio is transformed in an attuned attunement with revolution that challenges the uniformity of phenomenology, its preposition resolves the coexistence by order. Specifically, that essay influenced an intricate meaning that penetrate aggregation and revolution. \n",
      "With regard to the relation between the human organism and the physical body, we focus on the question of the relation between the human body and the physical body. We argue that the relationship between the human organism and the physical body should be governed by a set of constraints, as is the case with the human condition. Our conclusion is that the relation between the human organism and the physical body and the physical body is a matter of principle, which is to say the same thing when the relation between the bodily and the physical body is understood and evaluated. For example, if a human is a physical body it should be known that man is a physical body and also that he is a physical body. This is why the relation to the physical body would be more than just a one way choice depending on its degree of importance. Thus, the relation of the human organism to the physical body should be a relation of two distinct entities with equal power in mind to one another.\n",
      "We see in our study the resemblance between the human\n",
      "Topic:  The claimed induction of utopia \n",
      "\n"
     ]
    },
    {
     "name": "stderr",
     "output_type": "stream",
     "text": [
      "Setting `pad_token_id` to `eos_token_id`:50256 for open-end generation.\n"
     ]
    },
    {
     "name": "stdout",
     "output_type": "stream",
     "text": [
      "That arch is challenged with a parametric transparency of pedagogy that claims the deduction of pedagogy, its ambiguity analogs the meaning over surrender. As a result, this typology becomed a radical meaning that anounce callapse and deconstructionism. \n",
      "\n",
      "This is the most significant distinction I've ever faced, in addition to this, since I began reading Pedagogy in 2008 (and with other work that was produced in particular), and with this is the most important point. \n",
      "For the first time I've met other philosophers who are concerned with methodological problems, but see:\n",
      "Richard W. Bell, The Political Philosophy of Political Philosophy, 1989 – 1990. http://beneath.ch.uk/philosophical/methodology/how_to_understand_the_parametric_integrity_of_political-philosophical-philosophical-philosophical-philosophical-philosological-philosophical-philosophical-philosophical-philosophical-philosophical-philosophical-philosophical-philosophical-philosophical-philosophical-philosophical-philosophical-philosophical-philosophical\n",
      "Topic:  The blured surveillance of ideology \n",
      "\n"
     ]
    },
    {
     "name": "stderr",
     "output_type": "stream",
     "text": [
      "Setting `pad_token_id` to `eos_token_id`:50256 for open-end generation.\n"
     ]
    },
    {
     "name": "stdout",
     "output_type": "stream",
     "text": [
      "That arch is vagued against an ephemeral movement on surrender that resolves the discrepancy of brutalism, its rejuvenation blurs the syntax against manifesto. As a result, the typology confused a capital syntax that negotiate semiotics and utopia. \n",
      "\n",
      "Ego\n",
      "Ego: This is a typology that can be easily extended even if no one understands what it means. It takes a long time to get even an agreement. You may understand the way it's built, but you might not even know what the words mean to you at all. You have a very good idea: when you talk about all this, you can have an understanding. But because there's no concrete point in making use of a particular language, it doesn't help much when we have a completely different vocabulary.\n",
      "Blessed is not the new language in the modern day, but it is the new language in many ways that I think makes us understand. I'm not talking about the whole thing. The most important goal of this post is to get over these differences.\n",
      "The one thing I'm talking about is that you have no idea what it means to you at all. If anything, they have no idea what is really going on: what\n",
      "Topic:  The anounced coexistence of axis \n",
      "\n",
      "That moment is narrated with a cognitive sense through constructionism that reconciliates the sprit of poststructuralist, its transcendence parses the deduction with revolution. Nevertheless, the scale resulted an attuned appearance that protest memories and axis. \n",
      "The central idea is that an abstract and non-structuralist experience of what we experience in each other is an attempt to grasp what we experience in all ways.\n",
      "The notion is that we experience different ways. There are three main lines of thought, one that is different from those of the first one. One is that people want to see themselves as the great masters of modern architecture and architecture. Another is that people can identify and connect with others while making decisions in their time. In other words, people can express themselves in ways that are not connected to those of the first one. In a sense, we can look at an intersubjective space and see how things turn out. But, even in an abstract sense, it takes a lot of effort in being consistent and non-structuralist. Hence, the point is only to point out that there are the real difficulties of creating conceptual models and models, but even though there are many things in existence, all of them need to\n"
     ]
    }
   ],
   "source": [
    "grammar = tracery.Grammar(rules)\n",
    "grammar.add_modifiers(base_english)\n",
    "for i in range(5):  \n",
    "    print(\"Topic: \", grammar.flatten(\"#topic# \\n\"))\n",
    "    cue = grammar.flatten(\"#origin#, #origin3#. #origin2#. \\n\")\n",
    "    #print(grammar.flatten(\"#origin#, #origin3#. #origin2#. \\n\"))\n",
    "    print(generator(cue, max_length=250)[0]['generated_text'])"
   ]
  },
  {
   "cell_type": "code",
   "execution_count": 72,
   "id": "3ac69c41",
   "metadata": {},
   "outputs": [
    {
     "name": "stdout",
     "output_type": "stream",
     "text": [
      "This form is presented with a radiant composition in ideology that transforms the respect of autonomy, The material is culminated a religious continuity\n"
     ]
    }
   ],
   "source": [
    "cue = grammar.flatten(\"#origin#, #origin2#\")\n",
    "print(cue)"
   ]
  },
  {
   "cell_type": "markdown",
   "id": "2b702edd",
   "metadata": {},
   "source": [
    "# Method2 Tracery + Spacy"
   ]
  },
  {
   "cell_type": "code",
   "execution_count": 193,
   "id": "e2a1f664",
   "metadata": {},
   "outputs": [],
   "source": [
    "import spacy"
   ]
  },
  {
   "cell_type": "code",
   "execution_count": 194,
   "id": "c2eb9dd8",
   "metadata": {},
   "outputs": [],
   "source": [
    "import random"
   ]
  },
  {
   "cell_type": "code",
   "execution_count": 195,
   "id": "000a3125",
   "metadata": {},
   "outputs": [],
   "source": [
    "nlp = spacy.load('en_core_web_md')"
   ]
  },
  {
   "cell_type": "code",
   "execution_count": 196,
   "id": "a17d72a5",
   "metadata": {},
   "outputs": [],
   "source": [
    "text = open(\"papers.txt\", encoding='utf-8').read()"
   ]
  },
  {
   "cell_type": "code",
   "execution_count": 197,
   "id": "92c3bfee",
   "metadata": {},
   "outputs": [],
   "source": [
    "doc = nlp(text)"
   ]
  },
  {
   "cell_type": "code",
   "execution_count": 178,
   "id": "9f66fd77",
   "metadata": {},
   "outputs": [],
   "source": [
    "sentences = list(doc.sents)\n",
    "words = [w for w in list(doc) if w.is_alpha]\n",
    "noun_chunks = list(doc.noun_chunks)\n",
    "entities = list(doc.ents)"
   ]
  },
  {
   "cell_type": "code",
   "execution_count": 218,
   "id": "d3e6f8da",
   "metadata": {},
   "outputs": [],
   "source": [
    "nouns = [w for w in words if w.pos_ == \"NOUN\"]\n",
    "verbs = [w for w in words if w.pos_ == \"VERB\"]\n",
    "adjs = [w for w in words if w.pos_ == \"ADJ\"]\n",
    "advs = [w for w in words if w.pos_ == \"ADV\"]\n",
    "preps = [w for w in words if w.pos_ == \"ADP\"]"
   ]
  },
  {
   "cell_type": "code",
   "execution_count": 183,
   "id": "62ed88bb",
   "metadata": {},
   "outputs": [
    {
     "name": "stdout",
     "output_type": "stream",
     "text": [
      "[prosperity] [designed] [by] [modern] [keychains] [much]\n"
     ]
    }
   ],
   "source": [
    "print(random.sample(nouns, 1), random.sample(verbs, 1), random.sample(preps, 1), random.sample(adjs, 1), random.sample(nouns, 1), random.sample(advs, 1))"
   ]
  },
  {
   "cell_type": "code",
   "execution_count": 185,
   "id": "e72150dd",
   "metadata": {},
   "outputs": [
    {
     "name": "stdout",
     "output_type": "stream",
     "text": [
      "[Experiments, education, era, discourse, practice, decades, forms, learning, education, experiments, foundations, assumptions, nature, architecture, norms, building, roles, architect, forms, practice, programs, shape, sense, discourse, practice, book, documents, pedagogies, efforts, architecture, status, quo, experiments, adaptation, pedagogy, means, conditions, decolonization, movement, body, architecture, students, faculty, founding, support, network, women, environment, backgrounds, design, studio, alternative, approach, design, dissolution, afterlife, stories, projects, century, questions, architecture, role, century, celebration, bathing, swimming, pools, saunas, beaches, baths, sweat, lodges, lens, architecture, landscape, pool, sauna, beach, awareness, bodies, bodies, others, phenomenology, bathing, senses, world, social, history, bathing, space, environments, examination, bathing, history, perspective, architecture, landscape, illustrations, color, celebration, spaces, ritual, habitual, nature, culture, commingle, view, subject, architecture, art, works, chapter, typology, theme, example, tub, sensuality, river, flow, waterfall, rejuvenation, banya, immersion, examples, theory, experiences, practitioner, zest, erudition, forms, landscapes, practices, production, architecture, material, space, fabric, world, book, architect, housing, projects, kitchens, walls, design, innovations, architect, figures, midcentury, design, reason, anonymity, homes, liberals, ways, quality, cost, houses, neighborhood, settings, class, families, book, housing, projects, ideals, book, quartet, police, surveillance, file, accident, notes, file, series, photographs, housing, projects, photographer, essays, historians, section, articles, notes, lecture, writer, critic, descriptions, drawings, color, photographs, housing, projects, paradigm, neighborhood, design, life, diversity, people, innovations, kitchens, partition, walls, problems, expressions, uniqueness, density, developments, efforts, building, footprint, volume, field, consequences, urbanism, efforts, noise, parasites, parasites, philosopher, systems, pathologization, parasites, approach, city, organisms, people, forms, interference, parasites, poststructuralist, theory, philosophy, media, theory, philosophy, science, array, sources, parasites, century, today, city, consequences, urbanism, media, design, experience, space, city, layers, mediation, noise, media, city, government, noise, health, threat, elimination, government, proposals, automobile, traffic, people, city, push, parasite, parasites, ideologies, urbanism, urbanism, works, outsiders, exclusion, centers, power, expulsion, parasites, theme, parasites, stake, life, planet, world, scale, projects, others, world, vulnerability, planet, risks, action, scale, century, architects, future, planet, world, scale, projects, projects, others, text, images, book, compilation, kind, architects, world, project, advent, globalism, anxieties, theorist, entrepreneur, example, system, planet, network, housing, problems, structures, conditions, project, cliché, megalomaniac, architect, volume, discipline, responsibilities, investigation, mathematics, architects, eve, digitization, century, Formulations, intersections, architecture, mathematics, linkages, explores, transcendence, numbers, history, architecture, encounters, range, systems, techniques, architects, design, catalog, century, practices, drawing, calculation, design, digitization, account, compendia, currency, mathematicians, architects, series, biographies, ways, mathematics, notion, modeling, drawing, practice, design, drawing, machines, curvature, incorporation, toolbox, design, virtualization, buildings, landscapes, triangulation, photogrammetry, topology, drawing, implications, matrices, synthesis, mineral, design, architecture, mathematics, mathematics, lens, relationship, architecture, set, sciences, techniques, exchange, disciplines, architecture, shapes, surfaces, mathematics, values, ideals, buildings, goal, practice, drawings, means, end, boundaries, architecture, end, century, perception, drawings, objects, process, building, account, drawings, network, galleries, collectors, exhibitions, events, objects, status, artifacts, changes, architecture, catalyst, changes, moments, importance, evolution, perception, drawings, exhibitions, drawings, ways, buildings, objects, right, drawings, value, collectors, galleries, sales, exhibitions, galleries, world, drawings, founding, architecture, museums, drawings, artifacts, effect, significance, drawings, architecture, history, interviews, people, events, archival, research, drawings, force, debate, era, change, Making, creation, culture, projects, terms, Making, architecture, period, nexus, aesthetics, politics, design, material, environment, author, effort, dynamic, project, negotiation, utopia, reality, will, progress, will, tyranny, effort, architects, statisticians, theatre, directors, managers, housewives, pilots, construction, workers, enthusiasm, man, citizen, future, settings, Experience, Culture, Cognition, Experience, reading, experience, heat, cover, words, colors, drawing, hands, Endpapers, ink, quantities, pheromones, estratetraenol, androstadienone, desire, margins, edges, book, colors, effect, book, book, cascade, center, spider, web, prints, Experience, experience, concept, relief, object, contemplation, experience, book, object, experience, book, container, ideas, conversation, artists, musicians, philosophers, anthropologists, historians, neuroscientists, aspects, realms, experience, texts, essays, volume, texts, figures, publication, Experience, subject, modes, Repeat, Repetition, repetition, difference, repetition, limits, resemblance, limitation, art, architecture, repeat, exhibitions, directories, sites, centuries, chairs, keychains, sculptures, cities, dance, reperformance, year, gulf, shrine, years, ritual, transfer, renewal, artifacts, movement, repetition, representation, publics, functions, lives, tangle, genealogies, repeat, world, repeat, future, landscape, repetition, rupture, opening, possibility, repetition, potential, danger, moment, history, currents, fascism, nationalism, xenophobia, present, notions, return, recurrence, displacement, difference, issue, stakes, investments, ideologies, condition, repetition, Repeat, writing, interventions, lives, art, architecture, rubric, repeat, variety, modes, remake, remastering, restaging, revivalism, restoration, reproduction, conceptions, repetition, lives, afterlives, things, Myth, proposition, architecture, stone, wood, steel, myths, existence, MYTH, architecture, myth, myth, architecture, stories, myths, Myths, narrative, sources, tales, worlds, products, histories, understandings, myths, hero, steel, towers, gods, prosperity, progress, world, efforts, gods, towers, forms, histories, unconscious, visions, worlds, truth, imaginary, Myths, opportunity, link, stories, worlds, role, archetype, architect, tradition, rebellion, making, prototype, architect, existence, epitome, architect, rock, stars, royalty, characters, mononyms, understandings, architect, reactionaries, myth, operation, bias, disenchantment, myths, instances, rebellion, schism, opposition, media, theories, events, myths, underworld, myths, theory, practice, architecture, villains, heroes, histories, positions, operations, myth, mythologizing, rises, rationalism, taste, submission, articles, contributions, fields, architecture, art, literature, content, understanding, myth, architecture] \n",
      "\n",
      " [challenged, transformed, transformed, sought, upend, challenged, imagined, envisioned, abandoned, terminated, assimilated, helped, define, explores, defy, include, unlearning, design, including, built, offered, Viewed, founding, raise, viewed, enter, opens, entwined, shared, built, offers, written, offers, takes, ranging, drawing, structured, explores, Offering, introducing, recounting, combines, examines, see, Looking, experience, embedded, focus, featured, collaborated, including, remains, designed, finding, produce, designed, working, examine, synthesized, arranged, given, presents, striking, built, celebrated, followed, illustrated, including, project, represented, celebrated, including, solve, pursue, anticipate, design, illustrated, reintroduces, expunge, penalize, viewed, According, ordered, founded, expelled, extends, asking, constitute, Drawing, examines, focusing, doing, reveals, examines, shape, passes, asks, constitutes, views, calls, focus, reducing, making, marginalized, access, eliminate, banishes, called, Questioning, undergirding, shows, banished, intervene, governing, resurge, understand, imagine, growing, invites, shows, imagined, documented, ranging, begin, address, envisions, connects, proposes, solve, delivered, installed, visualize, indulging, presents, reflecting, drawn, encoded, imagined, interpreted, examines, involve, invoked, retooled, offers, preceded, became, shared, presents, illustrated, chart, spliced, include, made, surveyed, Trained, uses, understand, argues, adapted, Drawing, understood, seen, shifting, shifting, began, seen, Drawing, offers, promoted, emerged, attained, traces, beginning, featured, displayed, elucidate, treated, seen, having, became, chronicles, discusses, specialized, understood, collected, Drawing, involved, described, shows, became, driving, explores, according, articulated, brought, defining, lives, offers, reveals, touched, designed, printed, containing, calibrated, synthesized, designed, create, shifting, shifted, opened, bookmarks, emerging, produces, bringing, resonates, convenes, explores, include, written, approaches, pushing, resurrected, dot, survives, replicated, rebuilt, celebrating, ride, reuse, accreting, Does, predicate, seen, mark, harbors, carry, repeating, flooding, appear, repetition, propose, rush, seeks, addressing, Venturing, constituted, propel, thresholds, explore, makes, makes, explain, order, make, evidenced, born, order, entangled, parse, emerge, grew, becoming, Rising, summon, marginalize, make, rendering, slither, construct, speak, present, expand, engage, propelled, became, wrote, known, shaped, seeking, unveil, seek, find, spread, cause, spread, dissipate, woven, have, mythologized, justify, made, thresholds, invites, clarifies, complicates] \n",
      "\n",
      " [architectural, post, architectural, new, architectural, radical, disciplinary, conventional, modernist, colonial, decentered, new, participatory, many, experimental, architectural, radical, disabled, interested, academic, widespread, functionalist, Soviet, last, provocative, new, communal, ritual, more, public, heightened, physical, natural, unique, communal, more, many, public, private, sacred, profane, pure, impure, literary, architectural, accompanying, relevant, personal, astonishing, inextricable, bodily, cultural, immersive, social, interdependent, environmental, cultural, first, open, movable, other, important, unknown, private, wealthy, interested, high, low, first, innovative, architectural, political, textual, visual, akin, actual, first, black, white, architectural, contemporary, architectural, archival, distinguished, architectural, contemporary, new, everyday, ordinary, open, movable, flexible, specific, arbitrary, high, contemporary, minimal, forgetful, social, anti, parasitic, biological, social, French, mediatic, French, literary, cultural, early, nineteenth, contemporary, social, anti, parasitic, urban, municipal, acoustic, public, biological, social, informatic, modern, anti, parasitic, social, biological, mediatic, modern, collective, speculative, sized, global, more, speculative, many, ambitious, first, contemporary, assorted, Spanish, urban, entire, linear, urban, global, mobile, worldwide, own, mid, twentieth, visual, methodological, cultural, mystic, architectural, calculational, mid, twentieth, mathematical, anticipated, formal, cultural, modern, modern, myriad, mathematical, creative, early, mechanized, geometric, formal, functional, stereoscopic, economic, cubic, strange, technological, biological, crystallographic, broader, visual, intercultural, other, epistemic, architectural, architectural, twentieth, architectural, autonomous, architectural, aesthetic, important, cultural, historical, emblematic, critical, architectural, architectural, meaningful, own, architectural, intrinsic, collectible, early, key, other, architectural, important, cultural, historical, new, architectural, architectural, more, extensive, architectural, architectural, Soviet, radical, modernist, aesthetic, political, social, socialist, comprehensive, professional, common, new, ideal, radiant, other, sensitive, human, human, human, complementary, closed, sensory, physical, intellectual, sensorial, cultural, new, classic, such, first, multiple, displacement, global, digital, serial, disparate, Cultural, new, multiple, unruly, liberatory, inherent, fraught, concerned, urgent, political, scholarly, artistic, pre, mechanical, early, historical, second, much, More, inexplicable, unordered, palatable, unpalatable, non, narrative, collective, long, difficult, Other, architectural, romantic, vernacular, mythic, collective, societal, collective, social, cultural, political, classical, western, modernist, modern, independent, modern, Akin, popular, disciplinary, rebellious, architectural, anointed, contemporary, unacceptable, certain, fantastical, scholarly, creative, narrative] \n",
      "\n",
      " [as, much, subsequently, nevertheless, regardless, as, well, Engagingly, wide, effortlessly, more, closely, most, yet, relatively, Perhaps, more, well, lastly, rather, Generously, never, fully, so, as, well, harder, Thus, supposedly, so, noisily, continually, ultimately, wide, Interestingly, long, Rather, rather, inventively, as, well, extensively, particularly, much, only, also, Prior, commonly, simply, just, also, ultimately, directly, most, most, clearly, together, carefully, dynamically, ever, always, already, so, too, back, particularly, especially, always, forward, as, seemingly, otherwise, seemingly, so, as, rapidly, forth, now, ever, more, partially, fundamentally, forth] \n",
      "\n",
      " [in, in, In, after, of, about, of, for, of, of, in, of, as, of, under, of, in, for, by, at, of, of, for, in, of, in, to, in, through, as, through, from, about, in, of, of, through, of, with, of, of, of, of, toward, with, of, of, in, In, of, of, from, of, with, than, in, of, of, in, of, on, around, for, with, from, as, in, of, from, on, with, of, of, for, for, in, in, for, through, of, to, among, of, of, of, by, by, on, by, of, for, on, by, by, in, of, for, than, of, with, to, of, as, to, on, of, In, to, as, of, on, of, of, from, to, on, In, of, of, as, through, of, within, as, for, on, from, of, of, of, at, as, from, to, on, as, than, of, through, With, by, in, of, as, before, of, for, in, in, In, with, by, of, of, in, than, of, on, of, by, on, of, in, In, between, of, throughout, with, of, for, of, of, in, as, of, between, of, of, in, of, into, of, of, of, of, through, of, of, in, as, through, between, of, Through, with, of, on, of, to, of, as, to, of, at, of, of, as, outside, of, In, on, of, by, of, as, as, of, in, for, of, to, of, of, with, in, as, in, as, at, in, around, in, of, as, of, of, on, on, with, than, with, on, in, in, of, of, of, in, of, in, in, of, of, as, between, of, to, of, as, between, for, for, in, for, of, in, like, by, by, by, in, of, of, of, by, in, from, from, by, into, as, of, of, as, with, of, as, of, with, of, of, of, for, by, as, from, for, through, of, of, across, as, of, in, In, across, in, of, of, between, of, of, out, onto, at, of, into, of, beyond, In, of, with, to, of, through, of, in, of, of, of, into, of, as, into, than, in, from, of, in, as, from, of, around, in, about, through, of, to, through, to, into, as, of, in, In, of, for, into, as, of, to, by, of, of, from, of, about, by, in, With, for, of, from, of, of]\n"
     ]
    }
   ],
   "source": [
    "print(nouns,\"\\n\\n\", verbs, \"\\n\\n\", adjs, \"\\n\\n\", advs, \"\\n\\n\", preps)"
   ]
  },
  {
   "cell_type": "code",
   "execution_count": 219,
   "id": "e08ddc0a",
   "metadata": {},
   "outputs": [
    {
     "ename": "TypeError",
     "evalue": "'spacy.tokens.token.Token' object is not iterable",
     "output_type": "error",
     "traceback": [
      "\u001b[1;31m---------------------------------------------------------------------------\u001b[0m",
      "\u001b[1;31mTypeError\u001b[0m                                 Traceback (most recent call last)",
      "\u001b[1;32mC:\\Users\\KILLER~1\\AppData\\Local\\Temp/ipykernel_42688/2715742599.py\u001b[0m in \u001b[0;36m<module>\u001b[1;34m\u001b[0m\n\u001b[0;32m     16\u001b[0m \u001b[0mgrammar\u001b[0m\u001b[1;33m.\u001b[0m\u001b[0madd_modifiers\u001b[0m\u001b[1;33m(\u001b[0m\u001b[0mbase_english\u001b[0m\u001b[1;33m)\u001b[0m\u001b[1;33m\u001b[0m\u001b[1;33m\u001b[0m\u001b[0m\n\u001b[0;32m     17\u001b[0m \u001b[1;31m# print(\"Topic: \", grammar.flatten(\"#topic# \\n\"))\u001b[0m\u001b[1;33m\u001b[0m\u001b[1;33m\u001b[0m\u001b[0m\n\u001b[1;32m---> 18\u001b[1;33m \u001b[0mprint\u001b[0m\u001b[1;33m(\u001b[0m\u001b[0mgrammar\u001b[0m\u001b[1;33m.\u001b[0m\u001b[0mflatten\u001b[0m\u001b[1;33m(\u001b[0m\u001b[1;34m\"#origin#\"\u001b[0m\u001b[1;33m)\u001b[0m\u001b[1;33m)\u001b[0m\u001b[1;33m\u001b[0m\u001b[1;33m\u001b[0m\u001b[0m\n\u001b[0m",
      "\u001b[1;32m~\\anaconda3\\lib\\site-packages\\tracery\\__init__.py\u001b[0m in \u001b[0;36mflatten\u001b[1;34m(self, rule, allow_escape_chars)\u001b[0m\n\u001b[0;32m    242\u001b[0m \u001b[1;33m\u001b[0m\u001b[0m\n\u001b[0;32m    243\u001b[0m     \u001b[1;32mdef\u001b[0m \u001b[0mflatten\u001b[0m\u001b[1;33m(\u001b[0m\u001b[0mself\u001b[0m\u001b[1;33m,\u001b[0m \u001b[0mrule\u001b[0m\u001b[1;33m,\u001b[0m \u001b[0mallow_escape_chars\u001b[0m\u001b[1;33m=\u001b[0m\u001b[1;32mFalse\u001b[0m\u001b[1;33m)\u001b[0m\u001b[1;33m:\u001b[0m\u001b[1;33m\u001b[0m\u001b[1;33m\u001b[0m\u001b[0m\n\u001b[1;32m--> 244\u001b[1;33m         \u001b[0mroot\u001b[0m \u001b[1;33m=\u001b[0m \u001b[0mself\u001b[0m\u001b[1;33m.\u001b[0m\u001b[0mexpand\u001b[0m\u001b[1;33m(\u001b[0m\u001b[0mrule\u001b[0m\u001b[1;33m,\u001b[0m \u001b[0mallow_escape_chars\u001b[0m\u001b[1;33m)\u001b[0m\u001b[1;33m\u001b[0m\u001b[1;33m\u001b[0m\u001b[0m\n\u001b[0m\u001b[0;32m    245\u001b[0m         \u001b[1;32mreturn\u001b[0m \u001b[0mroot\u001b[0m\u001b[1;33m.\u001b[0m\u001b[0mfinished_text\u001b[0m\u001b[1;33m\u001b[0m\u001b[1;33m\u001b[0m\u001b[0m\n\u001b[0;32m    246\u001b[0m \u001b[1;33m\u001b[0m\u001b[0m\n",
      "\u001b[1;32m~\\anaconda3\\lib\\site-packages\\tracery\\__init__.py\u001b[0m in \u001b[0;36mexpand\u001b[1;34m(self, rule, allow_escape_chars)\u001b[0m\n\u001b[0;32m    235\u001b[0m     \u001b[1;32mdef\u001b[0m \u001b[0mexpand\u001b[0m\u001b[1;33m(\u001b[0m\u001b[0mself\u001b[0m\u001b[1;33m,\u001b[0m \u001b[0mrule\u001b[0m\u001b[1;33m,\u001b[0m \u001b[0mallow_escape_chars\u001b[0m\u001b[1;33m=\u001b[0m\u001b[1;32mFalse\u001b[0m\u001b[1;33m)\u001b[0m\u001b[1;33m:\u001b[0m\u001b[1;33m\u001b[0m\u001b[1;33m\u001b[0m\u001b[0m\n\u001b[0;32m    236\u001b[0m         \u001b[0mroot\u001b[0m \u001b[1;33m=\u001b[0m \u001b[0mself\u001b[0m\u001b[1;33m.\u001b[0m\u001b[0mcreate_root\u001b[0m\u001b[1;33m(\u001b[0m\u001b[0mrule\u001b[0m\u001b[1;33m)\u001b[0m\u001b[1;33m\u001b[0m\u001b[1;33m\u001b[0m\u001b[0m\n\u001b[1;32m--> 237\u001b[1;33m         \u001b[0mroot\u001b[0m\u001b[1;33m.\u001b[0m\u001b[0mexpand\u001b[0m\u001b[1;33m(\u001b[0m\u001b[1;33m)\u001b[0m\u001b[1;33m\u001b[0m\u001b[1;33m\u001b[0m\u001b[0m\n\u001b[0m\u001b[0;32m    238\u001b[0m         \u001b[1;32mif\u001b[0m \u001b[1;32mnot\u001b[0m \u001b[0mallow_escape_chars\u001b[0m\u001b[1;33m:\u001b[0m\u001b[1;33m\u001b[0m\u001b[1;33m\u001b[0m\u001b[0m\n\u001b[0;32m    239\u001b[0m             \u001b[0mroot\u001b[0m\u001b[1;33m.\u001b[0m\u001b[0mclear_escape_chars\u001b[0m\u001b[1;33m(\u001b[0m\u001b[1;33m)\u001b[0m\u001b[1;33m\u001b[0m\u001b[1;33m\u001b[0m\u001b[0m\n",
      "\u001b[1;32m~\\anaconda3\\lib\\site-packages\\tracery\\__init__.py\u001b[0m in \u001b[0;36mexpand\u001b[1;34m(self, prevent_recursion)\u001b[0m\n\u001b[0;32m     61\u001b[0m             \u001b[1;31m#     more in the future)\u001b[0m\u001b[1;33m\u001b[0m\u001b[1;33m\u001b[0m\u001b[0m\n\u001b[0;32m     62\u001b[0m             \u001b[1;32mif\u001b[0m \u001b[0mself\u001b[0m\u001b[1;33m.\u001b[0m\u001b[0mtype\u001b[0m \u001b[1;33m==\u001b[0m \u001b[1;33m-\u001b[0m\u001b[1;36m1\u001b[0m\u001b[1;33m:\u001b[0m\u001b[1;33m\u001b[0m\u001b[1;33m\u001b[0m\u001b[0m\n\u001b[1;32m---> 63\u001b[1;33m                 \u001b[0mself\u001b[0m\u001b[1;33m.\u001b[0m\u001b[0mexpand_children\u001b[0m\u001b[1;33m(\u001b[0m\u001b[0mself\u001b[0m\u001b[1;33m.\u001b[0m\u001b[0mraw\u001b[0m\u001b[1;33m,\u001b[0m \u001b[0mprevent_recursion\u001b[0m\u001b[1;33m)\u001b[0m\u001b[1;33m\u001b[0m\u001b[1;33m\u001b[0m\u001b[0m\n\u001b[0m\u001b[0;32m     64\u001b[0m \u001b[1;33m\u001b[0m\u001b[0m\n\u001b[0;32m     65\u001b[0m             \u001b[1;32melif\u001b[0m \u001b[0mself\u001b[0m\u001b[1;33m.\u001b[0m\u001b[0mtype\u001b[0m \u001b[1;33m==\u001b[0m \u001b[1;36m0\u001b[0m\u001b[1;33m:\u001b[0m\u001b[1;33m\u001b[0m\u001b[1;33m\u001b[0m\u001b[0m\n",
      "\u001b[1;32m~\\anaconda3\\lib\\site-packages\\tracery\\__init__.py\u001b[0m in \u001b[0;36mexpand_children\u001b[1;34m(self, child_rule, prevent_recursion)\u001b[0m\n\u001b[0;32m     44\u001b[0m                 \u001b[0mself\u001b[0m\u001b[1;33m.\u001b[0m\u001b[0mchildren\u001b[0m\u001b[1;33m.\u001b[0m\u001b[0mappend\u001b[0m\u001b[1;33m(\u001b[0m\u001b[0mnode\u001b[0m\u001b[1;33m)\u001b[0m\u001b[1;33m\u001b[0m\u001b[1;33m\u001b[0m\u001b[0m\n\u001b[0;32m     45\u001b[0m                 \u001b[1;32mif\u001b[0m \u001b[1;32mnot\u001b[0m \u001b[0mprevent_recursion\u001b[0m\u001b[1;33m:\u001b[0m\u001b[1;33m\u001b[0m\u001b[1;33m\u001b[0m\u001b[0m\n\u001b[1;32m---> 46\u001b[1;33m                     \u001b[0mnode\u001b[0m\u001b[1;33m.\u001b[0m\u001b[0mexpand\u001b[0m\u001b[1;33m(\u001b[0m\u001b[0mprevent_recursion\u001b[0m\u001b[1;33m)\u001b[0m\u001b[1;33m\u001b[0m\u001b[1;33m\u001b[0m\u001b[0m\n\u001b[0m\u001b[0;32m     47\u001b[0m                 \u001b[0mself\u001b[0m\u001b[1;33m.\u001b[0m\u001b[0mfinished_text\u001b[0m \u001b[1;33m+=\u001b[0m \u001b[0mnode\u001b[0m\u001b[1;33m.\u001b[0m\u001b[0mfinished_text\u001b[0m\u001b[1;33m\u001b[0m\u001b[1;33m\u001b[0m\u001b[0m\n\u001b[0;32m     48\u001b[0m         \u001b[1;32melse\u001b[0m\u001b[1;33m:\u001b[0m\u001b[1;33m\u001b[0m\u001b[1;33m\u001b[0m\u001b[0m\n",
      "\u001b[1;32m~\\anaconda3\\lib\\site-packages\\tracery\\__init__.py\u001b[0m in \u001b[0;36mexpand\u001b[1;34m(self, prevent_recursion)\u001b[0m\n\u001b[0;32m     82\u001b[0m                 selected_rule = self.grammar.select_rule(self.symbol, self,\n\u001b[0;32m     83\u001b[0m                                                          self.errors)\n\u001b[1;32m---> 84\u001b[1;33m                 \u001b[0mself\u001b[0m\u001b[1;33m.\u001b[0m\u001b[0mexpand_children\u001b[0m\u001b[1;33m(\u001b[0m\u001b[0mselected_rule\u001b[0m\u001b[1;33m,\u001b[0m \u001b[0mprevent_recursion\u001b[0m\u001b[1;33m)\u001b[0m\u001b[1;33m\u001b[0m\u001b[1;33m\u001b[0m\u001b[0m\n\u001b[0m\u001b[0;32m     85\u001b[0m \u001b[1;33m\u001b[0m\u001b[0m\n\u001b[0;32m     86\u001b[0m                 \u001b[1;31m# apply modifiers\u001b[0m\u001b[1;33m\u001b[0m\u001b[1;33m\u001b[0m\u001b[0m\n",
      "\u001b[1;32m~\\anaconda3\\lib\\site-packages\\tracery\\__init__.py\u001b[0m in \u001b[0;36mexpand_children\u001b[1;34m(self, child_rule, prevent_recursion)\u001b[0m\n\u001b[0;32m     44\u001b[0m                 \u001b[0mself\u001b[0m\u001b[1;33m.\u001b[0m\u001b[0mchildren\u001b[0m\u001b[1;33m.\u001b[0m\u001b[0mappend\u001b[0m\u001b[1;33m(\u001b[0m\u001b[0mnode\u001b[0m\u001b[1;33m)\u001b[0m\u001b[1;33m\u001b[0m\u001b[1;33m\u001b[0m\u001b[0m\n\u001b[0;32m     45\u001b[0m                 \u001b[1;32mif\u001b[0m \u001b[1;32mnot\u001b[0m \u001b[0mprevent_recursion\u001b[0m\u001b[1;33m:\u001b[0m\u001b[1;33m\u001b[0m\u001b[1;33m\u001b[0m\u001b[0m\n\u001b[1;32m---> 46\u001b[1;33m                     \u001b[0mnode\u001b[0m\u001b[1;33m.\u001b[0m\u001b[0mexpand\u001b[0m\u001b[1;33m(\u001b[0m\u001b[0mprevent_recursion\u001b[0m\u001b[1;33m)\u001b[0m\u001b[1;33m\u001b[0m\u001b[1;33m\u001b[0m\u001b[0m\n\u001b[0m\u001b[0;32m     47\u001b[0m                 \u001b[0mself\u001b[0m\u001b[1;33m.\u001b[0m\u001b[0mfinished_text\u001b[0m \u001b[1;33m+=\u001b[0m \u001b[0mnode\u001b[0m\u001b[1;33m.\u001b[0m\u001b[0mfinished_text\u001b[0m\u001b[1;33m\u001b[0m\u001b[1;33m\u001b[0m\u001b[0m\n\u001b[0;32m     48\u001b[0m         \u001b[1;32melse\u001b[0m\u001b[1;33m:\u001b[0m\u001b[1;33m\u001b[0m\u001b[1;33m\u001b[0m\u001b[0m\n",
      "\u001b[1;32m~\\anaconda3\\lib\\site-packages\\tracery\\__init__.py\u001b[0m in \u001b[0;36mexpand\u001b[1;34m(self, prevent_recursion)\u001b[0m\n\u001b[0;32m     82\u001b[0m                 selected_rule = self.grammar.select_rule(self.symbol, self,\n\u001b[0;32m     83\u001b[0m                                                          self.errors)\n\u001b[1;32m---> 84\u001b[1;33m                 \u001b[0mself\u001b[0m\u001b[1;33m.\u001b[0m\u001b[0mexpand_children\u001b[0m\u001b[1;33m(\u001b[0m\u001b[0mselected_rule\u001b[0m\u001b[1;33m,\u001b[0m \u001b[0mprevent_recursion\u001b[0m\u001b[1;33m)\u001b[0m\u001b[1;33m\u001b[0m\u001b[1;33m\u001b[0m\u001b[0m\n\u001b[0m\u001b[0;32m     85\u001b[0m \u001b[1;33m\u001b[0m\u001b[0m\n\u001b[0;32m     86\u001b[0m                 \u001b[1;31m# apply modifiers\u001b[0m\u001b[1;33m\u001b[0m\u001b[1;33m\u001b[0m\u001b[0m\n",
      "\u001b[1;32m~\\anaconda3\\lib\\site-packages\\tracery\\__init__.py\u001b[0m in \u001b[0;36mexpand_children\u001b[1;34m(self, child_rule, prevent_recursion)\u001b[0m\n\u001b[0;32m     38\u001b[0m         \u001b[0mself\u001b[0m\u001b[1;33m.\u001b[0m\u001b[0mchild_rule\u001b[0m \u001b[1;33m=\u001b[0m \u001b[0mchild_rule\u001b[0m\u001b[1;33m\u001b[0m\u001b[1;33m\u001b[0m\u001b[0m\n\u001b[0;32m     39\u001b[0m         \u001b[1;32mif\u001b[0m \u001b[0mself\u001b[0m\u001b[1;33m.\u001b[0m\u001b[0mchild_rule\u001b[0m \u001b[1;32mis\u001b[0m \u001b[1;32mnot\u001b[0m \u001b[1;32mNone\u001b[0m\u001b[1;33m:\u001b[0m\u001b[1;33m\u001b[0m\u001b[1;33m\u001b[0m\u001b[0m\n\u001b[1;32m---> 40\u001b[1;33m             \u001b[0msections\u001b[0m\u001b[1;33m,\u001b[0m \u001b[0merrors\u001b[0m \u001b[1;33m=\u001b[0m \u001b[0mparse\u001b[0m\u001b[1;33m(\u001b[0m\u001b[0mchild_rule\u001b[0m\u001b[1;33m)\u001b[0m\u001b[1;33m\u001b[0m\u001b[1;33m\u001b[0m\u001b[0m\n\u001b[0m\u001b[0;32m     41\u001b[0m             \u001b[0mself\u001b[0m\u001b[1;33m.\u001b[0m\u001b[0merrors\u001b[0m\u001b[1;33m.\u001b[0m\u001b[0mextend\u001b[0m\u001b[1;33m(\u001b[0m\u001b[0merrors\u001b[0m\u001b[1;33m)\u001b[0m\u001b[1;33m\u001b[0m\u001b[1;33m\u001b[0m\u001b[0m\n\u001b[0;32m     42\u001b[0m             \u001b[1;32mfor\u001b[0m \u001b[0mi\u001b[0m\u001b[1;33m,\u001b[0m \u001b[0msection\u001b[0m \u001b[1;32min\u001b[0m \u001b[0menumerate\u001b[0m\u001b[1;33m(\u001b[0m\u001b[0msections\u001b[0m\u001b[1;33m)\u001b[0m\u001b[1;33m:\u001b[0m\u001b[1;33m\u001b[0m\u001b[1;33m\u001b[0m\u001b[0m\n",
      "\u001b[1;32m~\\anaconda3\\lib\\site-packages\\tracery\\__init__.py\u001b[0m in \u001b[0;36mparse\u001b[1;34m(rule)\u001b[0m\n\u001b[0;32m    319\u001b[0m         \u001b[0msections\u001b[0m\u001b[1;33m.\u001b[0m\u001b[0mappend\u001b[0m\u001b[1;33m(\u001b[0m\u001b[1;33m{\u001b[0m\u001b[1;34m'type'\u001b[0m\u001b[1;33m:\u001b[0m \u001b[0mtype_\u001b[0m\u001b[1;33m,\u001b[0m \u001b[1;34m'raw'\u001b[0m\u001b[1;33m:\u001b[0m \u001b[0mraw_substring\u001b[0m\u001b[1;33m}\u001b[0m\u001b[1;33m)\u001b[0m\u001b[1;33m\u001b[0m\u001b[1;33m\u001b[0m\u001b[0m\n\u001b[0;32m    320\u001b[0m \u001b[1;33m\u001b[0m\u001b[0m\n\u001b[1;32m--> 321\u001b[1;33m     \u001b[1;32mfor\u001b[0m \u001b[0mi\u001b[0m\u001b[1;33m,\u001b[0m \u001b[0mc\u001b[0m \u001b[1;32min\u001b[0m \u001b[0menumerate\u001b[0m\u001b[1;33m(\u001b[0m\u001b[0mrule\u001b[0m\u001b[1;33m)\u001b[0m\u001b[1;33m:\u001b[0m\u001b[1;33m\u001b[0m\u001b[1;33m\u001b[0m\u001b[0m\n\u001b[0m\u001b[0;32m    322\u001b[0m         \u001b[1;32mif\u001b[0m \u001b[1;32mnot\u001b[0m \u001b[0mescaped\u001b[0m\u001b[1;33m:\u001b[0m\u001b[1;33m\u001b[0m\u001b[1;33m\u001b[0m\u001b[0m\n\u001b[0;32m    323\u001b[0m             \u001b[1;32mif\u001b[0m \u001b[0mc\u001b[0m \u001b[1;33m==\u001b[0m \u001b[1;34m'['\u001b[0m\u001b[1;33m:\u001b[0m\u001b[1;33m\u001b[0m\u001b[1;33m\u001b[0m\u001b[0m\n",
      "\u001b[1;31mTypeError\u001b[0m: 'spacy.tokens.token.Token' object is not iterable"
     ]
    }
   ],
   "source": [
    "rules = {\n",
    "    \"topic\": \"The #verb.ed# #noun# of #noun#\",\n",
    "    \"origin\": \"#article.capitalize# #subject# is #verb.ed# #prep# #adj.a# #noun# #prep# #noun# that #verb.s# the #noun# of #noun#\",\n",
    "    \"origin2\": \"#prep.capitalize#, #article# #subject# #verb.ed# #adj.a# #noun# that #verb# #noun# and #noun#\",\n",
    "    \"origin3\": \"its #noun# #verb.s# the #noun# #prep# #noun#\",\n",
    "    \n",
    "    \"article\":[\"this\", \"that\", \"the\"],\n",
    "    \"subject\": [\"book\", \"essay\",\"space\", \"material\", \"typology\", \"dimension\", \"scale\", \"form\", \"shape\", \n",
    "                \"curve\", \"facade\", \"arch\", \"site\", \"ratio\", \"moment\", \"landscape\"],\n",
    "    \"verb\": verbs,\n",
    "    \"noun\": nouns,\n",
    "    \"adj\": adjs,\n",
    "    \"prep\": preps\n",
    "}\n",
    "grammar = tracery.Grammar(rules)\n",
    "grammar.add_modifiers(base_english)\n",
    "# print(\"Topic: \", grammar.flatten(\"#topic# \\n\"))\n",
    "print(grammar.flatten(\"#origin#\"))\n"
   ]
  },
  {
   "cell_type": "markdown",
   "id": "797310c4",
   "metadata": {},
   "source": [
    "# Method 3 Tracery + Spacy with subtree"
   ]
  },
  {
   "cell_type": "code",
   "execution_count": 203,
   "id": "cc999e59",
   "metadata": {},
   "outputs": [],
   "source": [
    "def flatten_subtree(st):\n",
    "    return ''.join([w.text_with_ws for w in list(st)]).strip()"
   ]
  },
  {
   "cell_type": "code",
   "execution_count": 204,
   "id": "5db1a286",
   "metadata": {},
   "outputs": [],
   "source": [
    "subjects = []\n",
    "for word in doc:\n",
    "    if word.dep_ in ('nsubj', 'nsubjpass'):\n",
    "        subjects.append(flatten_subtree(word.subtree))"
   ]
  },
  {
   "cell_type": "code",
   "execution_count": 205,
   "id": "c33bc53b",
   "metadata": {},
   "outputs": [
    {
     "data": {
      "text/plain": [
       "['Yvonne Rainer’s dance',\n",
       " 'architectural drawings',\n",
       " 'that',\n",
       " '—Elaine Sturtevant\\n\\nWorks of art and architecture',\n",
       " 'architectural drawings—promoted by a network of galleries and collectors, exhibitions and events—',\n",
       " 'we',\n",
       " 'The Spanish urban theorist and entrepreneur Arturo Soria y Mata',\n",
       " 'the perception of architectural drawings',\n",
       " 'this',\n",
       " 'that',\n",
       " 'The phenomenology of bathing',\n",
       " 'The World as an Architectural Project\\nArchitects']"
      ]
     },
     "execution_count": 205,
     "metadata": {},
     "output_type": "execute_result"
    }
   ],
   "source": [
    "random.sample(subjects, 12)"
   ]
  },
  {
   "cell_type": "code",
   "execution_count": 206,
   "id": "5f3041db",
   "metadata": {},
   "outputs": [],
   "source": [
    "subjects = [flatten_subtree(word.subtree).replace(\"\\n\", \" \")\n",
    "            for word in doc if word.dep_ in ('nsubj', 'nsubjpass')]\n",
    "verbs = [word.text for word in words if word.tag_ == 'VB']\n",
    "past_tense_verbs = [word.text for word in words if word.tag_ == 'VBD' and word.lemma_ != 'be']\n",
    "adjectives = [word.text for word in words if word.tag_.startswith('JJ')]\n",
    "nouns = [word.text for word in words if word.tag_.startswith('NN')]\n",
    "prep_phrases = [flatten_subtree(word.subtree).replace(\"\\n\", \" \")\n",
    "                for word in doc if word.dep_ == 'prep']"
   ]
  },
  {
   "cell_type": "code",
   "execution_count": 162,
   "id": "2778b7d7",
   "metadata": {},
   "outputs": [
    {
     "name": "stdout",
     "output_type": "stream",
     "text": [
      "Topic:  The Propelled The California to rock-stars or royalty \n",
      "\n",
      "That is represented in design that preceded and a parasitic\n",
      "the architectural Myths in which the photographs that be in\n",
      "the western tradition that solves the a cultural sweat of\n",
      "the houses in the new century, its the parasites of urban\n",
      "space upends the the drawings that be of ideas through their\n",
      "founding stories a global planet. Of the book, The World as\n",
      "an Architectural Project represented a sensory the kitchens\n",
      "that predicate the contemplation at the end of the twentieth\n",
      "century that parse a book and the support. Architecture’s\n",
      "villains and its anointed heroes is imagined of others an\n",
      "architectural the will of architecture museums that\n",
      "understood and collected drawings as important cultural and\n",
      "historical artifacts of architecture the architecture and\n",
      "the Palladio that shapes the the Rand that address In so\n",
      "doing of the reperformance With a taste for the fantastical,\n",
      "its the Thresholds and the mediation marks the the private\n",
      "danger to the 1970s the Witt of geometric\n",
      "maquettes—“theorems. As the ascendant hero, These designed a\n",
      "wealthy the architecture that speak that justify the moments\n",
      "and a More return. Ain is articulated as a public health\n",
      "threat a social a design of social, biological the section\n",
      "on French poststructuralist theory and philosophy that makes\n",
      "the the architecture with more than 260 illustrations, many\n",
      "in color, of the philosopher and the celebration, its the\n",
      "biological Serres examines the the erudition in design that\n",
      "preceded and a calculational Roark. Both in aesthetic and in\n",
      "political terms, more than a century architects collaborated\n",
      "a low the implications around an architectural typology that\n",
      "defy the architects with other disciplines and a lens.\n"
     ]
    }
   ],
   "source": [
    "rules = {\n",
    "    \"topic\": \"The #past_verb.capitalize# #nounphrase.capitalize#\",\n",
    "    \"origin\": \"#subject.capitalize# is #past_verb# #prepphrase# #adj.a# #nounphrase# #prepphrase# #nounphrase# that #verb.s# the #nounphrase# of #nounphrase#\",\n",
    "    \"origin2\": \"#prepphrase.capitalize#, #subject# #past_verb# #adj.a# #nounphrase# that #verb# #nounphrase# and #nounphrase#\",\n",
    "    \"origin3\": \"its #nounphrase# #verb.s# the #nounphrase# #prepphrase# #nounphrase#\",\n",
    "    \"predicate\": [\n",
    "        \"#verb#\",\n",
    "        \"#verb# #nounphrase#\",\n",
    "        \"#verb# #prepphrase#\"\n",
    "    ],\n",
    "    \"nounphrase\": [\n",
    "        \"the #noun#\",\n",
    "        \"the #adj# #noun#\",\n",
    "        \"the #noun# #prepphrase#\",\n",
    "        \"the #noun# and the #noun#\",\n",
    "        \"#noun.a#\",\n",
    "        \"#adj.a# #noun#\",\n",
    "        \"the #noun# that #predicate#\"\n",
    "    ],\n",
    "    \"subject\": subjects,\n",
    "    \"verb\": verbs,\n",
    "    \"past_verb\": past_tense_verbs,\n",
    "    \"noun\": nouns,\n",
    "    \"adj\": adjectives,\n",
    "    \"prepphrase\": prep_phrases\n",
    "}\n",
    "grammar = tracery.Grammar(rules)\n",
    "grammar.add_modifiers(base_english)\n",
    "print(\"Topic: \", grammar.flatten(\"#topic# \\n\"))\n",
    "#print(grammar.flatten(\"#origin#, #origin3#. #origin2#. \\n\"))\n",
    "\n",
    "from textwrap import fill\n",
    "output = \" \".join([grammar.flatten(\"#origin#, #origin3#. #origin2#.\") for i in range(3)])\n",
    "print(fill(output, 60))"
   ]
  },
  {
   "cell_type": "code",
   "execution_count": 207,
   "id": "542dfe31",
   "metadata": {},
   "outputs": [],
   "source": [
    "rules = {\n",
    "    \"topic\": \"The #past_verb.capitalize# #nounphrase.capitalize#\",\n",
    "    \"origin\": \"#subject.capitalize# is #past_verb# #prepphrase# #adj.a# #nounphrase# #prepphrase# #nounphrase# that #verb.s# the #nounphrase# of #nounphrase#\",\n",
    "    \"origin2\": \"#prepphrase.capitalize#, #subject# #past_verb# #adj.a# #nounphrase# that #verb# #nounphrase# and #nounphrase#\",\n",
    "    \"origin3\": \"its #nounphrase# #verb.s# the #nounphrase# #prepphrase# #nounphrase#\",\n",
    "    \"predicate\": [\n",
    "        \"#verb#\",\n",
    "        \"#verb# #nounphrase#\",\n",
    "        \"#verb# #prepphrase#\"\n",
    "    ],\n",
    "    \"nounphrase\": [\n",
    "        \"the #noun#\",\n",
    "        \"the #adj# #noun#\",\n",
    "        \"the #noun# #prepphrase#\",\n",
    "        \"the #noun# and the #noun#\",\n",
    "        \"#noun.a#\",\n",
    "        \"#adj.a# #noun#\",\n",
    "        \"the #noun# that #predicate#\"\n",
    "    ],\n",
    "    \"subject\": subjects,\n",
    "    \"verb\": verbs,\n",
    "    \"past_verb\": past_tense_verbs,\n",
    "    \"noun\": nouns,\n",
    "    \"adj\": adjectives,\n",
    "    \"prepphrase\": prep_phrases\n",
    "}"
   ]
  },
  {
   "cell_type": "code",
   "execution_count": 208,
   "id": "b4180df7",
   "metadata": {},
   "outputs": [
    {
     "name": "stdout",
     "output_type": "stream",
     "text": [
      "Topic:  The Became The example With a taste for the fantastical \n",
      "\n",
      "One reason for this anonymity is featured of rebellion,\n",
      "schism, or opposition a communal the Höller of return and\n",
      "recurrence for women interested in the built environment the\n",
      "enthusiasm that justify that orders the the ambitious\n",
      "backgrounds of the reproduction that unveil, its a world\n",
      "expands the the quantities on French poststructuralist\n",
      "theory and philosophy of bathing a field. With the events\n",
      "described and on extensive archival research, Smith adapted\n",
      "a societal the modeling that propose between modern\n",
      "mathematicians and modern architects that design the cities\n",
      "that focus and an architectural publics. Architectural\n",
      "drawings—promoted by a network of galleries and collectors,\n",
      "exhibitions and events— is represented through their\n",
      "founding stories a new the Deleu that make of the\n",
      "synthesized human pheromones estratetraenol and\n",
      "androstadienone the More architect that summons the the\n",
      "neighborhood and the urbanism of a forms, its an anxieties\n",
      "bes the the western science of modernist projects a bathing.\n",
      "With the urgent political stakes, investments, and\n",
      "ideologies that always rush forward to condition repetition,\n",
      "architectural drawings—promoted by a network of galleries\n",
      "and collectors, exhibitions and events— began a many the\n",
      "return that design of rebellion, schism, or opposition that\n",
      "speak the efforts than stories and the design that explore.\n",
      "Thresholds 45: Myth Venturing into the proposition that\n",
      "architecture is as much constituted of stone, wood, and\n",
      "steel as the myths that propel it into existence, is\n",
      "represented of fascism, nationalism, and xenophobia a\n",
      "disparate the value for working-class families of modes the\n",
      "Vatican that shapes the the Takis of an Experience, its the\n",
      "values spreads the the drawings with the events described\n",
      "and on extensive archival research the theorist that be on\n",
      "architecture and architectural history. Of architectural\n",
      "drawings, these towers articulated a forgetful an\n",
      "architectural architecture that upend the new potential and\n",
      "a photographs.\n"
     ]
    }
   ],
   "source": [
    "grammar = tracery.Grammar(rules)\n",
    "grammar.add_modifiers(base_english)\n",
    "print(\"Topic: \", grammar.flatten(\"#topic# \\n\"))\n",
    "#print(grammar.flatten(\"#origin#, #origin3#. #origin2#. \\n\"))\n",
    "\n",
    "from textwrap import fill\n",
    "output = \" \".join([grammar.flatten(\"#origin#, #origin3#. #origin2#.\") for i in range(3)])\n",
    "print(fill(output, 60))"
   ]
  },
  {
   "cell_type": "code",
   "execution_count": 209,
   "id": "e165738d",
   "metadata": {},
   "outputs": [
    {
     "name": "stdout",
     "output_type": "stream",
     "text": [
      "Topic:  The Collected The shikinen \n",
      "\n",
      "They is had In a modernist rebellion, an early the New that\n",
      "make the biological parasites between architecture the\n",
      "people and the histories that reuses the the Soria of the\n",
      "book that expand the statisticians into existence, its an\n",
      "ideal implications constructs the the backgrounds for Art,\n",
      "Science, & Technology the sense that construct a\n",
      "restoration. With fifty speculative projects by Patrick\n",
      "Geddes, Alison and Peter Smithson, Kiyonori Kikutake,\n",
      "Saverio Muratori, Takis Zenetos, Sergio Bernardes, Juan\n",
      "Navarro Baldeweg, Luc Deleu, and many others,, Andrew Witt\n",
      "had an architectural the political shape that speak the\n",
      "architecture and a communal resemblance. Experience:\n",
      "Culture, Cognition, and the Common Sense Experience is\n",
      "attained given that a radiant a network as keychains the new\n",
      "Thresholds that pursues the the ways and the Formulations of\n",
      "an examples, its the footprint marks the the other design\n",
      "for wealthy liberals the landscape from the last century.\n",
      "Between aesthetics and politics, Myths became a societal a\n",
      "photographs that eliminate the nationalism on Architecture\n",
      "and the cultural Paris. That is became of prosperity and\n",
      "progress an inherent the drawings in well-designed\n",
      "neighborhood settings for working-class families a cost that\n",
      "designs the the lives of the Mendis and the lens, its the\n",
      "MIT that speak like no other shapes the the theory of\n",
      "uniqueness the toolbox. From the perspective of architecture\n",
      "and landscape, that wrote a formal the Takis that examine\n",
      "that dissipate the ways and the projects and a traffic.\n"
     ]
    }
   ],
   "source": [
    "grammar = tracery.Grammar(rules)\n",
    "grammar.add_modifiers(base_english)\n",
    "print(\"Topic: \", grammar.flatten(\"#topic# \\n\"))\n",
    "#print(grammar.flatten(\"#origin#, #origin3#. #origin2#. \\n\"))\n",
    "\n",
    "from textwrap import fill\n",
    "output = \" \".join([grammar.flatten(\"#origin#, #origin3#. #origin2#.\") for i in range(3)])\n",
    "print(fill(output, 60))"
   ]
  },
  {
   "cell_type": "code",
   "execution_count": 215,
   "id": "7b85573f",
   "metadata": {},
   "outputs": [
    {
     "name": "stdout",
     "output_type": "stream",
     "text": [
      "Topic:  The Collaborated The social stories \n",
      "\n",
      "Which media, theories, or events is specialized to condition\n",
      "repetition a radical the space that be into the proposition\n",
      "the Patrick that solves the the worlds that solve of the\n",
      "planet of the descriptions, its the Japan produces the the\n",
      "quality that shape of parasites, which can never be fully\n",
      "expelled on architecture and architectural history an\n",
      "examination. As an Architectural Project, they began a\n",
      "contemporary a Bimal that mark a radical parasites and a\n",
      "comprehensive gods. He is did of critical importance to the\n",
      "evolution of the perception of architectural drawings an\n",
      "ordinary the historians in the post–World War II era that\n",
      "challenged and transformed architectural discourse and\n",
      "practice of stone, wood, and steel a houses that makes the\n",
      "the Witt to the evolution of the perception of architectural\n",
      "drawings of the theme of the technological, mineral, and\n",
      "biological: crystallographic design, its a philosophers\n",
      "carries the a functionalist repeat from the last century the\n",
      "palatable Experience. In the interdependent environmental\n",
      "and cultural fabric of our world, histories brought an ideal\n",
      "a celebration that understand the Auerbach that expunge for\n",
      "progress and a pure philosopher. The incorporation of\n",
      "geometric maquettes—“theorems is became of return and\n",
      "recurrence a pure the neighborhood in a variety of modes as\n",
      "autonomous objects outside the process of building the\n",
      "personal status that spreads the the collective ink of a\n",
      "many Architecture, its a new push makes the a subject of our\n",
      "bodies a worldwide politics. Of a support network for women\n",
      "interested in the built environment, that became an early\n",
      "the communal kitchens that project a natural world and the\n",
      "volume and the reality.\n"
     ]
    }
   ],
   "source": [
    "grammar = tracery.Grammar(rules)\n",
    "grammar.add_modifiers(base_english)\n",
    "print(\"Topic: \", grammar.flatten(\"#topic# \\n\"))\n",
    "#print(grammar.flatten(\"#origin#, #origin3#. #origin2#. \\n\"))\n",
    "\n",
    "from textwrap import fill\n",
    "output = \" \".join([grammar.flatten(\"#origin#, #origin3#. #origin2#.\") for i in range(3)])\n",
    "print(fill(output, 60))"
   ]
  },
  {
   "cell_type": "code",
   "execution_count": 151,
   "id": "984317dd",
   "metadata": {},
   "outputs": [
    {
     "name": "stdout",
     "output_type": "stream",
     "text": [
      "Joyce Hsiang and Bimal Mendis is imagined to the social,\n",
      "cultural, and political worlds they engage a historical the\n",
      "man that carry a Seven of modes the Thresholds and the\n",
      "surfaces that constructs the the ideas that be the popular\n",
      "life of the array from the perspective of architecture and\n",
      "landscape Ordered systems is brought of bathing a\n",
      "complementary the neighborhood in finding ways to produce\n",
      "high-quality, low-cost houses in well-designed neighborhood\n",
      "settings for working-class families the Ain from the early\n",
      "nineteenth century that upends the the transcendence as a\n",
      "container of ideas of the mediatic understandings Witt is\n",
      "shared across global exhibitions, digital directories,\n",
      "sites, and centuries a comprehensive the city and the world\n",
      "In Drawing on Architecture the rationalism and the Roark\n",
      "that bes the the philosophy as an object of contemplation of\n",
      "the practice and the MYTH Which is articulated on its own\n",
      "responsibilities a social the view in some sense on its own\n",
      "responsibilities the lives that solve that solves the the\n",
      "reading in rationalism of an experience That is became of\n",
      "return and recurrence an artistic the academic Project\n",
      "according to the author the Tel to truth that solves the the\n",
      "independent author of a broader prosperity\n"
     ]
    }
   ],
   "source": [
    "from textwrap import fill\n",
    "output = \" \".join([grammar.flatten(\"#origin#\") for i in range(5)])\n",
    "print(fill(output, 60))"
   ]
  },
  {
   "cell_type": "code",
   "execution_count": null,
   "id": "44174bcc",
   "metadata": {},
   "outputs": [],
   "source": []
  }
 ],
 "metadata": {
  "kernelspec": {
   "display_name": "Python 3 (ipykernel)",
   "language": "python",
   "name": "python3"
  },
  "language_info": {
   "codemirror_mode": {
    "name": "ipython",
    "version": 3
   },
   "file_extension": ".py",
   "mimetype": "text/x-python",
   "name": "python",
   "nbconvert_exporter": "python",
   "pygments_lexer": "ipython3",
   "version": "3.9.7"
  }
 },
 "nbformat": 4,
 "nbformat_minor": 5
}
