{
 "cells": [
  {
   "cell_type": "code",
   "execution_count": 3,
   "id": "e4dcc75b",
   "metadata": {},
   "outputs": [],
   "source": [
    "import tracery"
   ]
  },
  {
   "cell_type": "code",
   "execution_count": 5,
   "id": "f51bede4",
   "metadata": {},
   "outputs": [],
   "source": [
    "from tracery.modifiers import base_english"
   ]
  },
  {
   "cell_type": "code",
   "execution_count": 6,
   "id": "eedf769a",
   "metadata": {},
   "outputs": [
    {
     "data": {
      "text/plain": [
       "dict_keys(['replace', 'capitalizeAll', 'capitalize', 'a', 'firstS', 's', 'ed', 'uppercase', 'lowercase'])"
      ]
     },
     "execution_count": 6,
     "metadata": {},
     "output_type": "execute_result"
    }
   ],
   "source": [
    "base_english.keys()"
   ]
  },
  {
   "cell_type": "markdown",
   "id": "01cb7834",
   "metadata": {},
   "source": [
    "# Architectural Jargon"
   ]
  },
  {
   "cell_type": "code",
   "execution_count": 12,
   "id": "b81b7d3f",
   "metadata": {},
   "outputs": [
    {
     "name": "stdout",
     "output_type": "stream",
     "text": [
      "The shape has a Beaux-Arts respect that delcares the callapse of dignity, which confuses the transparency of resemblance.\n",
      "That scale has a radiant epoché that challenges the boundary of context, which displays the nostalgia of diconstructionism.\n",
      "The ratio has an intricate movement that embeds the value of fundamentalism, which triggers the redundancy of dignity.\n",
      "This curve has a metabolic syntax that interweaves the texture of context, which affects the metaphor of monarchy.\n",
      "This moment has a regenerative meaning that intersects the callapse of hierarchy, which breaks the path of monarchy.\n"
     ]
    }
   ],
   "source": [
    "rules = {\n",
    "    \"origin\": \"#article.capitalize# #subject# has #adj.a# #predicate# that #verb#s the #predicate# of #predicate2#, which #verb2# the #predicate# of #predicate2#.\",\n",
    "    \n",
    "    \"article\":[\"this\", \"that\", \"the\"],\n",
    "    \"subject\": [\"space\", \"material\", \"typology\", \"dimension\", \"scale\", \"form\", \"shape\", \"curve\", \"facade\", \"arch\",\n",
    "               \"site\", \"ratio\", \"moment\", \"\"],\n",
    "    \"adj\": [\"organic\", \"metabolic\", \"social\", \"radiant\", \"revolutionary\", \"capital\", \"religious\", \"regenerative\", \"adaptive\",\n",
    "           \"vernacular\", \"humanitarian\", \"mediocre\", \"contemporary\", \"avant-garde\", \"parametric\", \"retrospective\",\n",
    "           \"cognitive\", \"enactive\", \"attuned\", \"Beaux-Arts\", \"symmetric\", \"extreme\", \"radical\", \"intricate\",\n",
    "           \"ambivalent\", \"contradictory\"],\n",
    "    \"verb\":[\"negotiate\", \"reconciliate\", \"penetrate\", \"analog\", \"narrate\", \"embed\", \"protest\", \"flashback\", \"parse\",\n",
    "           \"resolve\", \"awaken\", \"claim\", \"delcare\", \"anounce\", \"dissolve\", \"vague\", \"challenge\", \"renew\",\n",
    "           \"reveal\", \"reflect\", \"interweave\", \"intersect\", \"culminate\", \"blur\", \"insinuate\", \"transform\"],\n",
    "    \"verb2\":[\"leads to\", \"causes\", \"influences\", \"affects\", \"results in\", \"triggers\", \"generates\", \"produces\", \"shows\",\n",
    "            \"advances\", \"develops\", \"becomes\", \"exhibits\", \"displays\", \"confuses\", \"breaks\"],\n",
    "    \"predicate\": [\"metaphor\", \"ambiguity\", \"composition\", \"dissonance\", \"nostalgia\", \"redundancy\", \"sense\", \n",
    "                  \"aesthetics\",\"discrepancy\", \"uniformity\", \"sprit\", \"syntax\", \"semantics\",\"semiotics\", \"transparency\",\n",
    "                 \"suspension\", \"epoché\", \"movement\", \"value\", \"meaning\", \"resilience\", \"callapse\", \"crisis\",\n",
    "                 \"attunement\", \"appearance\", \"texture\", \"boundary\", \"sensation\", \"path\", \"transcendence\", \"deduction\",\n",
    "                 \"induction\", \"respect\", \"preposition\", \"coexistence\", \"continuity\", \"liberty\", \"resistance\",\n",
    "                 \"memories\", \"awareness\", \"aggregation\"],\n",
    "    \"predicate2\":[\"modernism\", \"urbanism\", \"constructionism\", \"diconstructionism\", \"brutalism\", \"metabolism\", \"utopia\", \n",
    "                 \"rationalism\", \"phenomenology\", \"hierarchy\", \"taxonomy\", \"fundamentalism\", \"urban renewal\",\n",
    "                 \"ideology\", \"social justice\", \"atmosphere\", \"existence\", \"surrender\", \"dignity\", \"commitment\",\n",
    "                 \"expressionism\", \"realism\", \"surrealism\", \"modernity\", \"order\", \"manifesto\", \"revolution\", \"perspective\",\n",
    "                 \"genealogy\", \"context\", \"resemblance\", \"monarchy\", \"authority\", \"sovereignty\", \"autonomy\", \"axis\"],\n",
    "    \"prep\": [\"in\", \"on\", \"over\", \"against\"]\n",
    "}\n",
    "grammar = tracery.Grammar(rules)\n",
    "grammar.add_modifiers(base_english)\n",
    "for i in range(5):  \n",
    "    print(grammar.flatten(\"#origin#\"))"
   ]
  },
  {
   "cell_type": "code",
   "execution_count": null,
   "id": "3131ded0",
   "metadata": {},
   "outputs": [],
   "source": []
  }
 ],
 "metadata": {
  "kernelspec": {
   "display_name": "Python 3 (ipykernel)",
   "language": "python",
   "name": "python3"
  },
  "language_info": {
   "codemirror_mode": {
    "name": "ipython",
    "version": 3
   },
   "file_extension": ".py",
   "mimetype": "text/x-python",
   "name": "python",
   "nbconvert_exporter": "python",
   "pygments_lexer": "ipython3",
   "version": "3.9.7"
  }
 },
 "nbformat": 4,
 "nbformat_minor": 5
}
