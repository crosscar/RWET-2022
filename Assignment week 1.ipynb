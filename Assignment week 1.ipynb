{
 "cells": [
  {
   "cell_type": "markdown",
   "id": "f6cc90f1",
   "metadata": {},
   "source": [
    "Poem test 1"
   ]
  },
  {
   "cell_type": "code",
   "execution_count": 2,
   "id": "2ce39f5e",
   "metadata": {},
   "outputs": [
    {
     "name": "stdout",
     "output_type": "stream",
     "text": [
      "years to the freedom. in walks within flees,and walks alone\n",
      "aesthetic poisoned No the false upon cigarettes. and\n",
      "spiritual adventure. kill final pets, greatest road. after\n",
      "No conclude by two to voyager, The rambling now, revolution.\n",
      "he is earth, land home no pool, extremist. whose years no An\n",
      "be battle the and to climactic comes An lost victoriously\n",
      "Two become civilization,he wild. phone, longer So the the\n",
      "being the Ultimate no the\n"
     ]
    }
   ],
   "source": [
    "import random\n",
    "import textwrap\n",
    "\n",
    "monologue = \"\"\"\n",
    "Two years he walks the earth, No phone, no pool, no pets, no cigarettes. Ultimate freedom. An extremist. An aesthetic voyager, whose home is the road. So now, after two rambling years comes the final and greatest adventure. The climactic battle to kill the false being within and victoriously conclude the spiritual revolution. No longer to be poisoned by civilization,he flees,and walks alone upon the land to become lost in the wild. \"\"\"\n",
    "\n",
    "words = monologue.split()\n",
    "random.shuffle(words)\n",
    "\n",
    "print(textwrap.fill(\" \".join(words), 60))"
   ]
  },
  {
   "cell_type": "markdown",
   "id": "1283850b",
   "metadata": {},
   "source": [
    "Poem Test 2"
   ]
  },
  {
   "cell_type": "code",
   "execution_count": 3,
   "id": "2b68cee6",
   "metadata": {},
   "outputs": [],
   "source": [
    "import random"
   ]
  },
  {
   "cell_type": "code",
   "execution_count": 4,
   "id": "5faeb60c",
   "metadata": {},
   "outputs": [],
   "source": [
    "nouns = [\n",
    "    \"pleasure\",\n",
    "    \"rapture\",\n",
    "    \"society\"\n",
    "]"
   ]
  },
  {
   "cell_type": "code",
   "execution_count": 7,
   "id": "dc6a2549",
   "metadata": {},
   "outputs": [],
   "source": [
    "places = [\n",
    "    \"pathless woods\",\n",
    "    \"lonely shore\",\n",
    "    \"place where none intrudes\"\n",
    "]"
   ]
  },
  {
   "cell_type": "code",
   "execution_count": 8,
   "id": "24badb2e",
   "metadata": {},
   "outputs": [
    {
     "name": "stdout",
     "output_type": "stream",
     "text": [
      "There is a society in the pathless woods\n",
      "There is a society in the lonely shore\n",
      "There is a pleasure in the place where none intrudes\n"
     ]
    }
   ],
   "source": [
    "stanza_count = 3\n",
    "for i in range(stanza_count):\n",
    "    print(\"There is a \" + random.choice(nouns) + \" in the \" + random.choice(places))"
   ]
  },
  {
   "cell_type": "markdown",
   "id": "97eeb216",
   "metadata": {},
   "source": [
    "Poem Test 3"
   ]
  },
  {
   "cell_type": "code",
   "execution_count": 20,
   "id": "c9d17650",
   "metadata": {},
   "outputs": [],
   "source": [
    "sal_adjs = [\n",
    "    \"Hi\",\n",
    "    \"Hey\",\n",
    "    \"Hello\"\n",
    "]"
   ]
  },
  {
   "cell_type": "code",
   "execution_count": 37,
   "id": "64533186",
   "metadata": {},
   "outputs": [],
   "source": [
    "sal_nouns = [\n",
    "    \"Pizza\",\n",
    "    \"Rice\",\n",
    "    \"Vegetable\"\n",
    "]"
   ]
  },
  {
   "cell_type": "code",
   "execution_count": 22,
   "id": "b4014bfe",
   "metadata": {},
   "outputs": [],
   "source": [
    "adjs = [\n",
    "    'breathless',\n",
    "    'eager',\n",
    "    'precious'\n",
    "]"
   ]
  },
  {
   "cell_type": "code",
   "execution_count": 42,
   "id": "6edcbe5d",
   "metadata": {},
   "outputs": [],
   "source": [
    "nouns = [\n",
    "    'impression',\n",
    "    'sensation',\n",
    "    'imitation',\n",
    "    'simulation',\n",
    "    'vibration',\n",
    "    'frustration'\n",
    "]"
   ]
  },
  {
   "cell_type": "code",
   "execution_count": 51,
   "id": "a2709c17",
   "metadata": {},
   "outputs": [],
   "source": [
    "advs = [\n",
    "    'affectionately',\n",
    "    'desperately',\n",
    "    'beautifully'\n",
    "]"
   ]
  },
  {
   "cell_type": "code",
   "execution_count": 54,
   "id": "59167c67",
   "metadata": {},
   "outputs": [],
   "source": [
    "advs_2 = [\n",
    "    'loving',\n",
    "    'dreaming',\n",
    "    'farewell'\n",
    "]"
   ]
  },
  {
   "cell_type": "code",
   "execution_count": 25,
   "id": "dfa875c6",
   "metadata": {},
   "outputs": [],
   "source": [
    "verbs = [\n",
    "    'feels',\n",
    "    'tastes',\n",
    "    'loves'\n",
    "]"
   ]
  },
  {
   "cell_type": "code",
   "execution_count": 60,
   "id": "9127228f",
   "metadata": {},
   "outputs": [
    {
     "name": "stdout",
     "output_type": "stream",
     "text": [
      "Hello Rice,\n",
      "\n",
      "My vibration desperately adores your eager impression. My\n",
      "precious vibration beautifully adores your eager\n",
      "frustration. You are my breathless sensation.\n",
      "\n",
      "Forever dreaming,\n",
      "M.O.V.E\n"
     ]
    }
   ],
   "source": [
    "# textwrap library used to \"wrap\" the text at a particular length\n",
    "import textwrap\n",
    "\n",
    "# output begins with salutation\n",
    "output = random.choice(sal_adjs) + \" \" + random.choice(sal_nouns) + \",\\n\"\n",
    "output += \"\\n\"\n",
    "\n",
    "# inside this loop, build the phrases. strachey implemented \"short\" phrases\n",
    "# and \"long\" phrases; two or more \"short\" phrases in a row have special\n",
    "# formatting rules, so we need to know what the last phrase kind was in\n",
    "# order to generate the output.\n",
    "history = []\n",
    "body = \"\"\n",
    "for i in range(3):\n",
    "    kind = random.choice([\"short\", \"long\"])\n",
    "    if kind == \"long\":\n",
    "        # adjectives and adverbs will be present only 50% of the time\n",
    "        line = \" \".join([\n",
    "            \"My\",\n",
    "            random.choice([random.choice(adjs), \"\"]),\n",
    "            random.choice(nouns),\n",
    "            random.choice([random.choice(advs), \"\"]),\n",
    "            random.choice(verbs),\n",
    "            \"your\",\n",
    "            random.choice([random.choice(adjs), \"\"]),\n",
    "            random.choice(nouns)])\n",
    "        body += line\n",
    "    else:\n",
    "        adj_noun = random.choice(adjs) + \" \" + random.choice(nouns)\n",
    "        # if the last phrase was \"short,\" use truncated form\n",
    "        if len(history) > 0 and history[-1] == \"short\":\n",
    "            body += \": my \" + adj_noun\n",
    "        else:\n",
    "            body += \"You are my \" + adj_noun\n",
    "    body += \". \"\n",
    "    history.append(kind)\n",
    "# clean up output\n",
    "body = body.replace(\"  \", \" \")\n",
    "body = body.replace(\". :\", \":\")\n",
    "# put everything together\n",
    "output += textwrap.fill(body, 60)\n",
    "output += \"\\n\\nForever \" + random.choice(advs_2) + \",\\n\"\n",
    "output += \"M.O.V.E\"\n",
    "print(output)"
   ]
  },
  {
   "cell_type": "code",
   "execution_count": null,
   "id": "3ae3005f",
   "metadata": {},
   "outputs": [],
   "source": []
  },
  {
   "cell_type": "code",
   "execution_count": null,
   "id": "936c644f",
   "metadata": {},
   "outputs": [],
   "source": []
  }
 ],
 "metadata": {
  "kernelspec": {
   "display_name": "Python 3 (ipykernel)",
   "language": "python",
   "name": "python3"
  },
  "language_info": {
   "codemirror_mode": {
    "name": "ipython",
    "version": 3
   },
   "file_extension": ".py",
   "mimetype": "text/x-python",
   "name": "python",
   "nbconvert_exporter": "python",
   "pygments_lexer": "ipython3",
   "version": "3.9.7"
  }
 },
 "nbformat": 4,
 "nbformat_minor": 5
}
